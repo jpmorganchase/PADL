{
 "cells": [
  {
   "cell_type": "markdown",
   "metadata": {},
   "source": [
    "## Welcome to PADL \n",
    "- A python module supporting PADL privacy-preserving distributed ledger system.\n",
    "\n",
    "The tutorial is split into sections listed below:\n",
    "1) MakeLedger\n",
    "2) Bank\n",
    "3) Auditing \n",
    "\n",
    "Pre-requisites:\n",
    "1) Python\n",
    "2) ZKPB module listed under the python search path\n",
    "3) Rust Compilation Tools, rustup (if ZKPB module is not compiled)\n",
    "4) Jupyter Notebook and its environment, ie ipykernel\n",
    "\n",
    "***\n",
    "\n",
    "## Common Functionality\n",
    "\n",
    "Let's start by importing some basic functionalities.\n"
   ]
  },
  {
   "cell_type": "code",
   "execution_count": 5,
   "metadata": {},
   "outputs": [
    {
     "ename": "ImportError",
     "evalue": "attempted relative import with no known parent package",
     "output_type": "error",
     "traceback": [
      "\u001b[0;31m---------------------------------------------------------------------------\u001b[0m",
      "\u001b[0;31mImportError\u001b[0m                               Traceback (most recent call last)",
      "Cell \u001b[0;32mIn[5], line 1\u001b[0m\n\u001b[0;32m----> 1\u001b[0m \u001b[38;5;28;01mfrom\u001b[39;00m \u001b[38;5;21;01m.\u001b[39;00m\u001b[38;5;21;01m.\u001b[39;00m\u001b[38;5;21;01mpyledger\u001b[39;00m\u001b[38;5;21;01m.\u001b[39;00m\u001b[38;5;21;01mledger\u001b[39;00m \u001b[38;5;28;01mimport\u001b[39;00m MakeLedger, BankCommunication, Bank, Auditing \n",
      "\u001b[0;31mImportError\u001b[0m: attempted relative import with no known parent package"
     ]
    }
   ],
   "source": [
    "from ..pyledger.ledger import MakeLedger, BankCommunication, Bank, Auditing \n"
   ]
  },
  {
   "cell_type": "markdown",
   "metadata": {},
   "source": [
    "If the example return error, try to restart the notebook/kernel to reset the state."
   ]
  },
  {
   "cell_type": "markdown",
   "metadata": {},
   "source": [
    "***\n",
    "\n",
    "### Ledger, Bank and Transaction\n",
    "\n",
    "### MakeLedger \n",
    "\n",
    "Ledger:\n",
    "<!-- - `register_bank(bank.pk, bank.address)` registers a bank onto the ledger. NOTE: creating bank then register_bank is not the correct flow. -->\n",
    "- `MakeLedger(comm,addr)` constructs a Ledger object that closely matches the Ledger described in PADL.\n",
    "- `register_new_bank(args)` constructs a new bank instance and register it onto the ledger.\n",
    "- `get_set_n_banks()` gives number of enrolled bank.\n",
    "- `register_zero_line(cell)` override the initial cell. (Should not be called from outside the class)\n",
    "- `retrieve_txs()` return the distributed txs (trasactions that are yet to be appended to ledger).\n",
    "\n",
    "Trasnaction:\n",
    "- `populate_tx(tx)` performs necessary state maangement for offline mode.\n",
    "- `push_tx(tx/txs, verify=True)` pushs transaction onto ledger (with verification [audit_tx] by default).\n",
    "- `audit_tx(tx/txs)` performs audit verification (proofs of asset, consistency, etc.) on the transaction.\n",
    "- `to_json(tx)` serializes the trasnaction into JSON format.\n",
    "-  `txs_from_json(txs_json)` deserializes JSON formatted transaction into Cell(Transaction) object. Another variant is `tx_from_json(tx_json)` that is used for deserializing from single-line tx.\n",
    "- `txs3d_from_json(txs3d_json)` deserializes JSON formmated transaction into assets.\n",
    "- `ledger.compute_sum_commits_tokens()` computes commit token sum that is needed for audit purposes. [It is normally used together with audit class. See Auditing section below.]\n",
    "<!-- - `create_initial_cell_from_asset_vals(v0, pk)` create a zero_line cell object based on provided initial v0 value and asset party public key which then can be used to initialize ledger.  -->\n",
    "\n",
    "### Bank\n",
    "\n",
    "- Bank object represents a bank entity described in PADL.\n",
    "- To create a bank object, run `Bank(api.ledger, v0=[0], type=None, address=api.local_host, port=0, serialise=False)` whereby \n",
    "    - ledger: the ledger the bank should be communcating to\n",
    "    - v0 : initial asset value list\n",
    "    - address : bank digital address \n",
    "    - type : asset type \n",
    "    - port : network port for the given address\n",
    "    - serialize : save to file \n",
    "- `bank.add_asset(value, asset_type)` adds asset under the bank account.\n",
    "- `bank.create_asset_tx(txs, n_banks, bank_public_keys)` creates new trasnaction based on the provided txs, n_banks and pks.\n"
   ]
  },
  {
   "cell_type": "code",
   "execution_count": null,
   "metadata": {},
   "outputs": [],
   "source": [
    "# The example here make use of most of the functions described above.\n",
    "# It start by creating dummy communication channel for local debugging purpose.\n",
    "# Next, a ledger is created, and then new banks are added to the ledger.\n",
    "# Finally, a number of transactions are created and appended to the ledger. \n",
    "\n",
    "n_banks = 2\n",
    "\n",
    "dummy_communication = BankCommunication()\n",
    "ledger = MakeLedger(dummy_communication)\n",
    "\n",
    "banks = []\n",
    "\n",
    "for b in range(n_banks):\n",
    "    bank = ledger.register_new_bank(v0=[1000], types={0: 'xcoin'})\n",
    "    print(bank.secret_balance_book)\n",
    "    banks.append(bank)\n",
    "\n",
    "print(\"Number of Bank:\",ledger.get_set_n_banks())\n",
    "assert ledger.get_set_n_banks() == n_banks, \"Numberof enrolled bank does not match\"\n",
    "\n",
    "for i in range(2):\n",
    "    bi = i % n_banks\n",
    "    print('Bank {} makes Tx no. {}'.format(bi, i))\n",
    "    distributed_tx = banks[bi].create_rand_tx(n_banks, ledger.pub_keys)\n",
    "    ledger.populate_tx(distributed_tx)\n",
    "    ledger.push_tx(distributed_tx)\n",
    "    for i in range(0,len(banks)):\n",
    "        print((banks[i].secret_balance_book[0]))\n",
    "    distributed_tx = banks[bi].create_rand_tx(n_banks, ledger.pub_keys)\n",
    "    ledger.populate_tx(distributed_tx)\n",
    "    ledger.audit_tx(distributed_tx)\n",
    "    ledger.push_tx(distributed_tx)\n",
    "    tx_json = MakeLedger.to_json(distributed_tx)\n",
    "    print(\"Transaction:\" ,MakeLedger.to_json(distributed_tx))\n",
    "    recons_tx = MakeLedger.txs_from_json(tx_json)\n",
    "    \n",
    "\n",
    "assert ledger.retrieve_txs()==[],\"Pending trasnactions should be empty.\" #Expected empty as the pending transaction had been processed.\n",
    "print(\"test - adding asset\")        \n",
    "# Dynamically adding new asset\n",
    "init_cell_asset=banks[0].add_asset(2000, asset_type=\"zcoin\")\n",
    "ledger.register_new_asset(init_cell_asset,0)\n",
    "tx = [0] * n_banks\n",
    "tx[0] = -100\n",
    "tx[1] = 100\n",
    "txs = [tx.copy() for _ in range(2)]\n",
    "distributed_tx = banks[0].create_asset_tx(txs, n_banks, ledger.pub_keys)\n",
    "ledger.populate_tx(distributed_tx)\n",
    "ledger.push_tx(distributed_tx)"
   ]
  },
  {
   "cell_type": "markdown",
   "metadata": {},
   "source": [
    "***\n",
    "### Auditing (Generation and Verification of Proof)\n",
    "<!-- - `audit_asset_balance(ledger, bank_id, asset)` performs the same check as above but generate the necessary proof inside the function.  This function reference a non-existence function get_asset_balance_proof()-->\n",
    "- `verify_asset_balance(sum, generator_gh, proof, sval, bank_id, asset_id)` performs asset balance check on the chosen bank asset.\n",
    "- `valdiate_proof_of_ext_consistency`, `valdiate_proof_of_consistency`, `valdiate_proof_of_asset`, `verify_value_eq_cm` is called during audit_tx to audit transaction. [See above for example of it].\n",
    "- `validate_proof_of_balance(tx)` verifies transaction satisfy balance requirement.\n",
    "- `valdiate_proof_of_ratio_asset` verifies the claimed asset liquidity which is generated using `generate_asset_ratio_proof(asset_id, ratio_n, ratio_d)`."
   ]
  },
  {
   "cell_type": "code",
   "execution_count": null,
   "metadata": {
    "collapsed": false,
    "jupyter": {
     "outputs_hidden": false
    }
   },
   "outputs": [],
   "source": [
    "# Continuing from the example above, here we are going to generate proof for auditing making use of the function mentioned in the Markdown section above.\n",
    "# ------------------- test auditing of asset --------------\n",
    "# generate balance proof\n",
    "scst = ledger.compute_sum_commits_tokens()\n",
    "from pyledger.Proof_Generation import ProofGenerator\n",
    "for asset_id in range(1):\n",
    "    pr, sval = (ProofGenerator().generate_asset_balance_proof(scst, asset_id, banks[0], ledger))\n",
    "    assert Auditing.verify_asset_balance(scst, ledger.gh, pr, sval, 0, asset_id), \"auditing is wrong\"\n",
    "    sval[asset_id] = sval[asset_id] + 5\n",
    "    assert not Auditing.verify_asset_balance(scst, ledger.gh, pr, sval, 0, asset_id), \"auditing is wrong\"\n",
    "print('audited balance')\n",
    "\n",
    "print(banks[0].get_balances_from_state(ledger))\n",
    "# generate ratio asset threshold proof (liquidity of 1/3 threshold)\n",
    "proof=banks[0].generate_asset_ratio_proof(asset=0, n=1,d=3)\n",
    "Auditing.valdiate_proof_of_ratio_asset(ledger,proof, asset=0, n=1,d=3)\n",
    "\n",
    "# Making use of the distributed tx before\n",
    "assert Auditing.validate_proof_of_balance(distributed_tx[0]), \"Proof of balance does not agree.\""
   ]
  }
 ],
 "metadata": {
  "kernelspec": {
   "display_name": "Python 3 (ipykernel)",
   "language": "python",
   "name": "python3"
  },
  "language_info": {
   "codemirror_mode": {
    "name": "ipython",
    "version": 3
   },
   "file_extension": ".py",
   "mimetype": "text/x-python",
   "name": "python",
   "nbconvert_exporter": "python",
   "pygments_lexer": "ipython3",
   "version": "3.13.0"
  }
 },
 "nbformat": 4,
 "nbformat_minor": 4
}
