{
 "cells": [
  {
   "cell_type": "code",
   "execution_count": null,
   "id": "78a85be3",
   "metadata": {},
   "outputs": [],
   "source": [
    "import os\n",
    "import sys\n",
    "from pathlib import Path\n",
    "path = os.path.realpath('__file__')\n",
    "parent_dir = str(Path(path).parents[1])\n",
    "sys.path.append(parent_dir)\n",
    "import matplotlib.pyplot as plt\n",
    "import numpy as np"
   ]
  },
  {
   "cell_type": "code",
   "execution_count": null,
   "id": "0f149b0f",
   "metadata": {},
   "outputs": [],
   "source": [
    "# rational field\n",
    "x = np.array([i/200.0 for i in range(-1000,1000,1)])\n",
    "# y^2 = x^3 + 7 F_p\n",
    "y = np.sqrt(x**3 + 7)\n",
    "plt.scatter(x,y)\n",
    "plt.scatter(x,-y)"
   ]
  },
  {
   "cell_type": "code",
   "execution_count": null,
   "id": "6660a6b7",
   "metadata": {},
   "outputs": [],
   "source": [
    "# finite field\n",
    "x = np.array([i for i in range(0,1000000,5000)])\n",
    "# y^2 = x^3 + 7 F_p\n",
    "y = np.sqrt((x%251)**3 + 7) % 251\n",
    "#G would be a generator."
   ]
  },
  {
   "cell_type": "code",
   "execution_count": null,
   "id": "a597fda1",
   "metadata": {},
   "outputs": [],
   "source": [
    "plt.scatter(x,y)\n",
    "plt.scatter(x,-y)"
   ]
  },
  {
   "cell_type": "code",
   "execution_count": null,
   "id": "5189221f",
   "metadata": {},
   "outputs": [],
   "source": [
    "import zkbp\n",
    "from pyledger.zkutils import Commit,r_blend"
   ]
  },
  {
   "cell_type": "code",
   "execution_count": null,
   "id": "71dde216",
   "metadata": {},
   "outputs": [],
   "source": [
    "# create a new blinding factor \"r\" between 1-n % q (256bits) \n",
    "r=r_blend()\n",
    "r.to_str()"
   ]
  },
  {
   "cell_type": "code",
   "execution_count": null,
   "id": "c05826d1",
   "metadata": {},
   "outputs": [],
   "source": [
    "# generate gh object, contains g, h point generators, constant for the ledger and public\n",
    "gh = zkbp.gen_GH()"
   ]
  },
  {
   "cell_type": "markdown",
   "id": "6d743afc",
   "metadata": {},
   "source": [
    "### Pedersen Commitment and homomorphicity in Tx"
   ]
  },
  {
   "cell_type": "code",
   "execution_count": null,
   "id": "44905ec1",
   "metadata": {},
   "outputs": [],
   "source": [
    "# Now pedersen commit can then be:\n",
    "ped_100 = Commit(gh,100,r)\n",
    "ped_100.eval.get # = g^100 * h^r (in compressed form)"
   ]
  },
  {
   "cell_type": "code",
   "execution_count": null,
   "id": "59a95a8c",
   "metadata": {},
   "outputs": [],
   "source": [
    "# second pedersen commit can then be:\n",
    "r2=r_blend()\n",
    "ped_minus50 = Commit(gh,-60,r2)"
   ]
  },
  {
   "cell_type": "code",
   "execution_count": null,
   "id": "3388c226",
   "metadata": {},
   "outputs": [],
   "source": [
    "# third and summed to 0 sum_rs=0:\n",
    "r3=-(r2+r)\n",
    "(r+r2+r3).to_str()"
   ]
  },
  {
   "cell_type": "code",
   "execution_count": null,
   "id": "2e6caeee",
   "metadata": {},
   "outputs": [],
   "source": [
    "ped_50b = Commit(gh,-40,r3)"
   ]
  },
  {
   "cell_type": "code",
   "execution_count": null,
   "id": "f09ac415",
   "metadata": {},
   "outputs": [],
   "source": [
    "sum_cms = ped_50b + ped_minus50 + ped_100 # actually means: (g^100*h^r1)*(g^-60*h^r2)*(g^-40*h^r3)=g^0*h^0=1.0\n",
    "sum_cms.eval.get # results 0 here would mean g^0h^0"
   ]
  },
  {
   "cell_type": "markdown",
   "id": "a259d29c",
   "metadata": {},
   "source": [
    "### Audit Token"
   ]
  },
  {
   "cell_type": "code",
   "execution_count": null,
   "id": "8a173ee7",
   "metadata": {},
   "outputs": [],
   "source": [
    "from pyledger.zkutils import Token"
   ]
  },
  {
   "cell_type": "code",
   "execution_count": null,
   "id": "6f89e946",
   "metadata": {},
   "outputs": [],
   "source": [
    "# token here (h^sk)^r or (pk)^r\n",
    "pbsk1 = zkbp.gen_pb_sk(gh)\n",
    "tk1=Token(pbsk1,r)\n",
    "tk1.eval.get # (pk)^r thats what we share"
   ]
  },
  {
   "cell_type": "code",
   "execution_count": null,
   "id": "ac801461",
   "metadata": {},
   "outputs": [],
   "source": [
    "# consenting and finding my value\n",
    "cm1_enc = ped_100.eval.get\n",
    "tk1_enc = tk1.eval.get"
   ]
  },
  {
   "cell_type": "code",
   "execution_count": null,
   "id": "60f0bd48",
   "metadata": {},
   "outputs": [],
   "source": [
    "# brutforce value using cm tk and my sk.\n",
    "zkbp.get_brut_v(zkbp.from_str(cm1_enc),\n",
    "                zkbp.to_token_from_str(tk1_enc),\n",
    "                gh,pbsk1,1000)"
   ]
  },
  {
   "cell_type": "code",
   "outputs": [],
   "source": [],
   "metadata": {
    "collapsed": false
   },
   "id": "fb1b4748753cab9"
  }
 ],
 "metadata": {
  "kernelspec": {
   "display_name": "Python 3 (ipykernel)",
   "language": "python",
   "name": "python3"
  },
  "language_info": {
   "codemirror_mode": {
    "name": "ipython",
    "version": 3
   },
   "file_extension": ".py",
   "mimetype": "text/x-python",
   "name": "python",
   "nbconvert_exporter": "python",
   "pygments_lexer": "ipython3",
   "version": "3.10.2"
  }
 },
 "nbformat": 4,
 "nbformat_minor": 5
}