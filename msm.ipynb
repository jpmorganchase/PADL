{
 "cells": [
  {
   "cell_type": "code",
   "execution_count": 296,
   "metadata": {},
   "outputs": [],
   "source": [
    "import random\n",
    "import functools\n",
    "from ecpy.curves     import Curve,Point\n",
    "\n",
    "cv = Curve.get_curve('secp256k1')\n",
    "order = cv.order\n",
    "P  = Point(0x65d5b8bf9ab1801c9f168d4815994ad35f1dcb6ae6c7a1a303966b677b813b00,\n",
    "           0xe6b865e529b8ecbf71cf966e900477d49ced5846d7662dd2dd11ccd55c0aff7f,\n",
    "           cv)\n",
    "k  = 0xfb26a4e75eec75544c0f44e937dcf5ee6355c7176600b9688c667e5c283b43c5\n",
    "Q  = k*P\n",
    "R  = P+Q\n",
    "\n",
    "n = 128\n",
    "#for huge instance of n about 2048? and beyond the optimization seem to make sense\n",
    "b= 256 # number of bits for scalar\n",
    "c = 8 #c_limb_size or bit_size\n",
    "parition_num = b//c\n",
    "# scalars =[random.randint(0,b-1) for i in range(n)]\n",
    "scalars =[random.randint(0,order-1) for i in range(n)]\n",
    "points = [random.randint(0,b-1) * R for i in range(n)]\n",
    "# print(compare)"
   ]
  },
  {
   "cell_type": "code",
   "execution_count": 297,
   "metadata": {},
   "outputs": [
    {
     "name": "stdout",
     "output_type": "stream",
     "text": [
      "compare: (0xc516d77e06239801c77434998a13aae32b7d6f0473f8be4006b82ab019b2597a , 0x2435942a99483cdbbca10d62b495cd10676c90ee4350015a057423ab9ee66b9e)\n"
     ]
    }
   ],
   "source": [
    "compare = functools.reduce(lambda a,b: a+b,[scalars[i]*points[i] for i in range(n)],R+R.neg())\n",
    "print(\"compare:\", compare)\n",
    "# About n mult and n addition"
   ]
  },
  {
   "cell_type": "code",
   "execution_count": 298,
   "metadata": {},
   "outputs": [],
   "source": [
    "# Naive decomposition\n",
    "\n",
    "#Take from the lowest bit until the highest.\n",
    "def take_bit(some_int,step,num_i):\n",
    "    bin_repr = bin(some_int)[2:]\n",
    "    bin_repr =  ((b - len(bin_repr)) * \"0\") + bin_repr \n",
    "    # bin_repr = bin_repr[::-1] # bin[0] is the lowest bit 1, follow by 2, 4, 8 etc.\n",
    "    if (num_i ==0):\n",
    "        return bin_repr[-step:]\n",
    "    return bin_repr[-(step*(num_i+1)):(-(step*num_i))]\n",
    "\n",
    "# T1 = first 3 bit of scalar1 * G1 + first 3 bit of scalar 2 * G2...\n",
    "# T2 = next 3 bit of scalar1 *G2 + next 3 bit of scalar2 * G2 ...\n",
    "# T_(b//c) = ...\n",
    "part_T = []\n",
    "for i in range(parition_num):\n",
    "    acc = R+R.neg()\n",
    "    for j in range(len(scalars)):  \n",
    "        acc += (int(take_bit(scalars[j],c,i),base=2)*points[j])   \n",
    "    part_T.append(acc)\n",
    "part_T.reverse() # part_T the highest power is in front [0] for double-and-add"
   ]
  },
  {
   "cell_type": "markdown",
   "metadata": {},
   "source": []
  },
  {
   "cell_type": "code",
   "execution_count": 299,
   "metadata": {},
   "outputs": [
    {
     "name": "stdout",
     "output_type": "stream",
     "text": [
      "(0xc516d77e06239801c77434998a13aae32b7d6f0473f8be4006b82ab019b2597a , 0x2435942a99483cdbbca10d62b495cd10676c90ee4350015a057423ab9ee66b9e)\n",
      "(0xc516d77e06239801c77434998a13aae32b7d6f0473f8be4006b82ab019b2597a , 0x2435942a99483cdbbca10d62b495cd10676c90ee4350015a057423ab9ee66b9e)\n",
      "32\n"
     ]
    }
   ],
   "source": [
    "#Double and add with 2^c window.\n",
    "def window_doubleandadd(part_T):\n",
    "    T = part_T[0]\n",
    "    for i in range(1,len(part_T)):\n",
    "        T  = pow(2,c,order)*T\n",
    "        T = T+ part_T[i]\n",
    "    return T\n",
    "\n",
    "print(window_doubleandadd(part_T))\n",
    "print(compare)\n",
    "assert window_doubleandadd(part_T) == compare\n",
    "#about b//c multiplication and c addition\n",
    "# for b==256, and c==8 [256 buckets] we have 32 mult and 32 addition \n",
    "print(parition_num)"
   ]
  },
  {
   "cell_type": "code",
   "execution_count": 300,
   "metadata": {},
   "outputs": [
    {
     "name": "stdout",
     "output_type": "stream",
     "text": [
      "57030\n"
     ]
    }
   ],
   "source": [
    "part_T = []\n",
    "addition_count =0\n",
    "for i in range(parition_num):\n",
    "    bucket_size =((2**c)-1)\n",
    "    bucket_for_scalar = [R+R.neg() for _ in range(bucket_size)]\n",
    "    for j in range(len(scalars)):  \n",
    "        bit = int(take_bit(scalars[j],c,i),base=2)\n",
    "        if (bit)!= 0:\n",
    "            bucket_for_scalar[bit-1] += (points[j])\n",
    "            addition_count+=1\n",
    "    next_bucket = bucket_size-1\n",
    "    rolling_sum = bucket_for_scalar[next_bucket]\n",
    "    acc = rolling_sum\n",
    "    next_bucket -= 1\n",
    "    while next_bucket != -1:\n",
    "        rolling_sum += bucket_for_scalar[next_bucket]\n",
    "        acc += rolling_sum\n",
    "        addition_count+=2\n",
    "        next_bucket -= 1\n",
    "    part_T.append(acc)\n",
    "# two additions per bucket => 2**8 = 256*2 = 1024 additions \n",
    "print(addition_count)\n",
    "part_T.reverse() # part_T the highest power is in front [0] for double-and-add"
   ]
  },
  {
   "cell_type": "code",
   "execution_count": 301,
   "metadata": {},
   "outputs": [
    {
     "name": "stdout",
     "output_type": "stream",
     "text": [
      "(0xc516d77e06239801c77434998a13aae32b7d6f0473f8be4006b82ab019b2597a , 0x2435942a99483cdbbca10d62b495cd10676c90ee4350015a057423ab9ee66b9e)\n",
      "(0xc516d77e06239801c77434998a13aae32b7d6f0473f8be4006b82ab019b2597a , 0x2435942a99483cdbbca10d62b495cd10676c90ee4350015a057423ab9ee66b9e)\n"
     ]
    }
   ],
   "source": [
    "print(window_doubleandadd(part_T))\n",
    "print(compare)\n",
    "assert window_doubleandadd(part_T) == compare"
   ]
  },
  {
   "cell_type": "code",
   "execution_count": null,
   "metadata": {},
   "outputs": [],
   "source": []
  }
 ],
 "metadata": {
  "kernelspec": {
   "display_name": "Python 3",
   "language": "python",
   "name": "python3"
  },
  "language_info": {
   "codemirror_mode": {
    "name": "ipython",
    "version": 3
   },
   "file_extension": ".py",
   "mimetype": "text/x-python",
   "name": "python",
   "nbconvert_exporter": "python",
   "pygments_lexer": "ipython3",
   "version": "3.11.9"
  }
 },
 "nbformat": 4,
 "nbformat_minor": 2
}
