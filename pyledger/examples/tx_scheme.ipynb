{
 "cells": [
  {
   "cell_type": "code",
   "execution_count": null,
   "id": "b14a6fd3-db9b-4298-8890-21df9c71b764",
   "metadata": {},
   "outputs": [],
   "source": [
    "# demo scheme for transactions on smart contract of 3 example parties.\n",
    "import padl_cli\n",
    "import subprocess,os"
   ]
  },
  {
   "cell_type": "code",
   "execution_count": null,
   "id": "8dc0c627-f25b-4631-a024-9a67030f2e4a",
   "metadata": {},
   "outputs": [],
   "source": [
    "issuer0={'sk':\"0xd165ffafba0f4ede5854b9a46a04127b5d7f0153f7b410481619330d38d52b95\",'add':\"0x06477aDFA4A8f6fcCb5f5b1e86Ab95accE885BBC\"}\n",
    "bank1={'sk':\"0x3cffa62ac21355b633c44b68cddd4fc925f45e4015bafb6dd7873b3704de352c\",'add':\"0x582Acc86832ae6A2A087F081E34Ca9C7F4436d03\"}\n",
    "bank2={'sk':\"0x19f1690498e1598707eb6d62ce7a570b5a76b2e3447d819def37f4282e07c077\",'add':\"0xDeB73e8ff8a27dD6CcAd9E1BEF8592C1f5DD1B4E\"}"
   ]
  },
  {
   "cell_type": "code",
   "execution_count": null,
   "id": "2bcf2547-b3ea-4665-b07a-79f170a8b77d",
   "metadata": {},
   "outputs": [],
   "source": [
    "# Start archive ledger\n",
    "base_dir = os.path.abspath(os.path.join(os.getcwd(), '..', '..'))\n",
    "serv_path = os.path.join(base_dir, 'cloud_server', 'python_storage', 'serv.py')\n",
    "\n",
    "subprocess.Popen(['python', serv_path])"
   ]
  },
  {
   "cell_type": "code",
   "execution_count": null,
   "id": "db84b944-d2f6-4f8c-ba78-1dbba6850306",
   "metadata": {},
   "outputs": [],
   "source": [
    "# Start Ganache\n",
    "accounts = [\n",
    "    \"0xd165ffafba0f4ede5854b9a46a04127b5d7f0153f7b410481619330d38d52b95,100000000000000000\",\n",
    "    \"0x3cffa62ac21355b633c44b68cddd4fc925f45e4015bafb6dd7873b3704de352c,100000000000000000\",\n",
    "    \"0x19f1690498e1598707eb6d62ce7a570b5a76b2e3447d819def37f4282e07c077,100000000000000000\"\n",
    "]\n",
    "account_args = []\n",
    "for acc in accounts:\n",
    "    account_args.append('--account')\n",
    "    account_args.append(acc)\n",
    "\n",
    "# Final command list\n",
    "cmd = ['ganache-cli'] + account_args\n",
    "\n",
    "# Run the process\n",
    "try:\n",
    "    subprocess.Popen(cmd)\n",
    "except FileNotFoundError:\n",
    "    print(\"ganache-cli is not installed or not found in PATH.\")\n",
    "except subprocess.CalledProcessError as e:\n",
    "    print(f\"Error running ganache-cli: {e}\")"
   ]
  },
  {
   "cell_type": "code",
   "execution_count": null,
   "id": "e3391758-29eb-4e31-afc8-97a360e5886c",
   "metadata": {},
   "outputs": [],
   "source": [
    "contract_address=padl_cli.deploy_contract(issuer0['sk'])"
   ]
  },
  {
   "cell_type": "code",
   "execution_count": null,
   "id": "ecf68539-2459-4b22-80ec-f88265ddfab4",
   "metadata": {},
   "outputs": [],
   "source": [
    "contract_address"
   ]
  },
  {
   "cell_type": "code",
   "execution_count": null,
   "id": "8d30e9ba-b9c8-4c0e-a8a5-8b50fcbe269a",
   "metadata": {},
   "outputs": [],
   "source": [
    "padl_cli.add_party(bank1['add'])"
   ]
  },
  {
   "cell_type": "code",
   "execution_count": null,
   "id": "07912a4d-82a0-4fad-ac0c-b948b9e77670",
   "metadata": {},
   "outputs": [],
   "source": [
    "padl_cli.register('Bank',contract_address,bank1['sk'],bank1['add'])"
   ]
  },
  {
   "cell_type": "code",
   "execution_count": null,
   "id": "a2179709-2f9b-4fce-b036-25595267e267",
   "metadata": {},
   "outputs": [],
   "source": [
    "padl_cli.add_party(bank2['add'])"
   ]
  },
  {
   "cell_type": "code",
   "execution_count": null,
   "id": "92036b08-f79f-4731-86f6-b32b99137d2b",
   "metadata": {},
   "outputs": [],
   "source": [
    "padl_cli.register('Bank',contract_address,bank2['sk'],bank2['add'])"
   ]
  },
  {
   "cell_type": "code",
   "execution_count": null,
   "id": "3f068910-0749-4da0-a067-16a5650ef2b1",
   "metadata": {},
   "outputs": [],
   "source": [
    "padl_cli.balance(\"Issuer 0\")"
   ]
  },
  {
   "cell_type": "code",
   "execution_count": null,
   "id": "c0397c0e-5bff-4e25-93ad-d2b6807901fc",
   "metadata": {},
   "outputs": [],
   "source": [
    "padl_cli.balance(\"Bank 1\")"
   ]
  },
  {
   "cell_type": "code",
   "execution_count": null,
   "id": "83ddc499-17f5-48f8-872b-1548e6365228",
   "metadata": {},
   "outputs": [],
   "source": [
    "padl_cli.balance(\"Bank 2\")"
   ]
  },
  {
   "cell_type": "code",
   "execution_count": null,
   "id": "40b7363e-dcd5-477d-90a5-1c36c46e690f",
   "metadata": {},
   "outputs": [],
   "source": [
    "padl_cli.send(\"Issuer 0\",val=[[-10,10,0],[-30,0,30]])"
   ]
  },
  {
   "cell_type": "code",
   "execution_count": null,
   "id": "64291854-bc6f-4d2a-8163-635f63367828",
   "metadata": {},
   "outputs": [],
   "source": [
    "padl_cli.balance(\"Issuer 0\")\n",
    "padl_cli.balance(\"Bank 1\")\n",
    "padl_cli.balance(\"Bank 2\")"
   ]
  },
  {
   "cell_type": "code",
   "execution_count": null,
   "id": "70897ea8-eb8e-464b-8c79-78a84c1fb28b",
   "metadata": {},
   "outputs": [],
   "source": [
    "padl_cli.get_wallet(\"Bank 2\")"
   ]
  },
  {
   "cell_type": "code",
   "execution_count": null,
   "id": "d828f1de-2570-4c15-9559-6e7a0e82e449",
   "metadata": {},
   "outputs": [],
   "source": [
    "padl_cli.send_multi(\"Issuer 0\",val=[[0,-10,10],[0,10,-10]])"
   ]
  },
  {
   "cell_type": "code",
   "execution_count": null,
   "id": "46292abd-2eac-4411-966f-0a705326f537",
   "metadata": {},
   "outputs": [],
   "source": [
    "padl_cli.proof(\"Bank 1\")"
   ]
  },
  {
   "cell_type": "code",
   "execution_count": null,
   "id": "5946b191-2a11-4310-9c7f-7fda69cfe0d9",
   "metadata": {},
   "outputs": [],
   "source": [
    "padl_cli.proof(\"Bank 2\")"
   ]
  },
  {
   "cell_type": "code",
   "execution_count": null,
   "id": "b1df3a4b-d8f5-429a-ab12-655fd7c5377f",
   "metadata": {
    "scrolled": true
   },
   "outputs": [],
   "source": [
    "padl_cli.proof(\"Issuer 0\")"
   ]
  },
  {
   "cell_type": "code",
   "execution_count": null,
   "id": "fd88cf17-906c-4625-a004-f1648da58756",
   "metadata": {},
   "outputs": [],
   "source": [
    "padl_cli.finalize(\"Issuer 0\")"
   ]
  },
  {
   "cell_type": "code",
   "execution_count": null,
   "id": "d50cbc9c-6c31-4b6d-aa4f-6943e2a308b1",
   "metadata": {},
   "outputs": [],
   "source": [
    "padl_cli.balance(\"Issuer 0\")"
   ]
  },
  {
   "cell_type": "code",
   "execution_count": null,
   "id": "4d4de80e-de12-4f91-9644-bacb551d46e1",
   "metadata": {},
   "outputs": [],
   "source": [
    "padl_cli.balance(\"Bank 1\")"
   ]
  },
  {
   "cell_type": "code",
   "execution_count": null,
   "id": "b6c47ca8-b27f-4700-82ca-e977e7f8809b",
   "metadata": {},
   "outputs": [],
   "source": [
    "padl_cli.balance(\"Bank 2\")"
   ]
  }
 ],
 "metadata": {
  "kernelspec": {
   "display_name": "Python 3 (ipykernel)",
   "language": "python",
   "name": "python3"
  },
  "language_info": {
   "codemirror_mode": {
    "name": "ipython",
    "version": 3
   },
   "file_extension": ".py",
   "mimetype": "text/x-python",
   "name": "python",
   "nbconvert_exporter": "python",
   "pygments_lexer": "ipython3",
   "version": "3.10.16"
  }
 },
 "nbformat": 4,
 "nbformat_minor": 5
}
