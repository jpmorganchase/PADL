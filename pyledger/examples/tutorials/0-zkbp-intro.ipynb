{
 "cells": [
  {
   "cell_type": "code",
   "execution_count": 1,
   "id": "02cc1948",
   "metadata": {},
   "outputs": [
    {
     "name": "stdout",
     "output_type": "stream",
     "text": [
      "Serialized point: (1, 2)\n",
      "[123, 84, 182, 104, 54, 193, 251, 221, 19, 210, 68, 29, 158, 20, 52, 220, 98, 202, 103, 127, 182, 143, 95, 230, 106, 70, 75, 170, 222, 205, 189, 0, 87, 111, 141, 107, 90, 195, 188, 200, 8, 68, 183, 213, 11, 28, 198, 96, 52, 68, 187, 231, 207, 207, 143, 192, 170, 30, 227, 198, 54, 217, 227, 57]\n",
      "[123, 84, 182, 104, 54, 193, 251, 221, 19, 210, 68, 29, 158, 20, 52, 220, 98, 202, 103, 127, 182, 143, 95, 230, 106, 70, 75, 170, 222, 205, 189]\n",
      "[2, 123, 84, 182, 104, 54, 193, 251, 221, 19, 210, 68, 29, 158, 20, 52, 220, 98, 202, 103, 127, 182, 143, 95, 230, 106, 70, 75, 170, 222, 205, 189]\n",
      "abc 21888242871839275222246405745257275088548364400416034343698204186575808495617\n",
      "[23, 22, 9, 158, 53, 95, 48, 125, 221, 49, 101, 3, 196, 0, 247, 17, 53, 63, 49, 198, 8, 134, 137, 240, 185, 177, 242, 242, 145, 152, 137, 74]\n",
      "[23, 22, 9, 158, 53, 95, 48, 125, 221, 49, 101, 3, 196, 0, 247, 17, 53, 63, 49, 198, 8, 134, 137, 240, 185, 177, 242, 242, 145, 152, 137]\n",
      "[2, 23, 22, 9, 158, 53, 95, 48, 125, 221, 49, 101, 3, 196, 0, 247, 17, 53, 63, 49, 198, 8, 134, 137, 240, 185, 177, 242, 242, 145, 152, 137]\n",
      "abc 21888242871839275222246405745257275088548364400416034343698204186575808495617\n",
      "[46, 44, 19, 60, 106, 190, 96, 251, 186, 98, 202, 7, 136, 1, 238, 34, 106, 126, 99, 140, 17, 13, 19, 225, 115, 99, 229, 229, 35, 49, 18, 148]\n",
      "[46, 44, 19, 60, 106, 190, 96, 251, 186, 98, 202, 7, 136, 1, 238, 34, 106, 126, 99, 140, 17, 13, 19, 225, 115, 99, 229, 229, 35, 49, 18]\n",
      "[2, 46, 44, 19, 60, 106, 190, 96, 251, 186, 98, 202, 7, 136, 1, 238, 34, 106, 126, 99, 140, 17, 13, 19, 225, 115, 99, 229, 229, 35, 49, 18]\n"
     ]
    }
   ],
   "source": [
    "import zkbp\n",
    "import os,sys\n",
    "from pathlib import Path\n",
    "path = os.path.realpath('0-zkbp-intro.ipynb')\n",
    "sys.path.append(str(Path(path).parents[1]))  # go up 2 levels [1] to '/pyledger/'\n",
    "from pyledger.zkutils import Commit,r_blend, Token"
   ]
  },
  {
   "cell_type": "code",
   "execution_count": 2,
   "id": "6e13a128",
   "metadata": {},
   "outputs": [
    {
     "name": "stdout",
     "output_type": "stream",
     "text": [
      "[123, 84, 182, 104, 54, 193, 251, 221, 19, 210, 68, 29, 158, 20, 52, 220, 98, 202, 103, 127, 182, 143, 95, 230, 106, 70, 75, 170, 222, 205, 189, 0, 87, 111, 141, 107, 90, 195, 188, 200, 8, 68, 183, 213, 11, 28, 198, 96, 52, 68, 187, 231, 207, 207, 143, 192, 170, 30, 227, 198, 54, 217, 227, 57]\n",
      "[123, 84, 182, 104, 54, 193, 251, 221, 19, 210, 68, 29, 158, 20, 52, 220, 98, 202, 103, 127, 182, 143, 95, 230, 106, 70, 75, 170, 222, 205, 189]\n",
      "public key is 96bb8083d4c32ed00cedd68196b275128feeee2ee029fcefba265e2c5f82d62f and secret key is cc44baee9459007af55f15864e9a05bb54e0893302a027d943d54908d1f21920\n",
      "[2, 123, 84, 182, 104, 54, 193, 251, 221, 19, 210, 68, 29, 158, 20, 52, 220, 98, 202, 103, 127, 182, 143, 95, 230, 106, 70, 75, 170, 222, 205, 189]\n",
      "abc 21888242871839275222246405745257275088548364400416034343698204186575808495617\n",
      "[23, 22, 9, 158, 53, 95, 48, 125, 221, 49, 101, 3, 196, 0, 247, 17, 53, 63, 49, 198, 8, 134, 137, 240, 185, 177, 242, 242, 145, 152, 137, 74]\n",
      "[23, 22, 9, 158, 53, 95, 48, 125, 221, 49, 101, 3, 196, 0, 247, 17, 53, 63, 49, 198, 8, 134, 137, 240, 185, 177, 242, 242, 145, 152, 137]\n",
      "[2, 23, 22, 9, 158, 53, 95, 48, 125, 221, 49, 101, 3, 196, 0, 247, 17, 53, 63, 49, 198, 8, 134, 137, 240, 185, 177, 242, 242, 145, 152, 137]\n",
      "abc 21888242871839275222246405745257275088548364400416034343698204186575808495617\n",
      "[46, 44, 19, 60, 106, 190, 96, 251, 186, 98, 202, 7, 136, 1, 238, 34, 106, 126, 99, 140, 17, 13, 19, 225, 115, 99, 229, 229, 35, 49, 18, 148]\n",
      "[46, 44, 19, 60, 106, 190, 96, 251, 186, 98, 202, 7, 136, 1, 238, 34, 106, 126, 99, 140, 17, 13, 19, 225, 115, 99, 229, 229, 35, 49, 18]\n",
      "[2, 46, 44, 19, 60, 106, 190, 96, 251, 186, 98, 202, 7, 136, 1, 238, 34, 106, 126, 99, 140, 17, 13, 19, 225, 115, 99, 229, 229, 35, 49, 18]\n",
      "serialized point: [150, 187, 128, 131, 212, 195, 46, 208, 12, 237, 214, 129, 150, 178, 117, 18, 143, 238, 238, 46, 224, 41, 252, 239, 186, 38, 94, 44, 95, 130, 214, 47]\n",
      "[0]\n"
     ]
    }
   ],
   "source": [
    "# generate g and h\n",
    "gh = zkbp.gen_GH()\n",
    "\n",
    "# generate public and secret key\n",
    "pk_sk_obj = zkbp.gen_pb_sk(gh)\n",
    "pk = pk_sk_obj.get_pk()\n",
    "sk = pk_sk_obj.get_sk()\n",
    "print(f'public key is {pk} and secret key is {sk}')\n",
    "\n",
    "# generate a random point\n",
    "r = zkbp.gen_r()\n",
    "# print(f'r is {r.get}')\n",
    "\n",
    "# This r does not have add,mult,neg functions, so we use class r_blend()\n",
    "r = r_blend()\n",
    "rd = -r "
   ]
  },
  {
   "cell_type": "code",
   "execution_count": 3,
   "id": "41bbe9fd",
   "metadata": {},
   "outputs": [
    {
     "name": "stdout",
     "output_type": "stream",
     "text": [
      "[13]\n",
      "72e3b4b94ede95894ae5d2392befc9158fd8a201d32dbda7fcf43b6dee32ce84\n",
      "dcc8bbd1a2c0f0448de77439bae876efc2e15a1f73a2b47b613ad6db80c15626\n",
      "[13]\n",
      "serialized point: [114, 227, 180, 185, 78, 222, 149, 137, 74, 229, 210, 57, 43, 239, 201, 21, 143, 216, 162, 1, 211, 45, 189, 167, 252, 244, 59, 109, 238, 50, 206, 132]\n",
      "serialized point: [220, 200, 187, 209, 162, 192, 240, 68, 141, 231, 116, 57, 186, 232, 118, 239, 194, 225, 90, 31, 115, 162, 180, 123, 97, 58, 214, 219, 128, 193, 86, 38]\n"
     ]
    }
   ],
   "source": [
    "# lets make a commitment\n",
    "# we can make a Pedersen commitment, we can do that with a commit object\n",
    "value = 13\n",
    "r = zkbp.gen_r()\n",
    "cm = zkbp.commit(value, r, gh)\n",
    "#print(cm.get)\n",
    "\n",
    "# another option\n",
    "r = r_blend()\n",
    "cmd = Commit(gh, value, r)\n",
    "print(cmd.eval.get)\n",
    "\n",
    "# we can also create a token that is just the public key raised to r\n",
    "tk = pk_sk_obj.to_token(r.val)\n",
    "print(tk.get)"
   ]
  },
  {
   "cell_type": "code",
   "execution_count": 20,
   "id": "4170b874-00c4-4b34-91ad-3ee4d3ef26cb",
   "metadata": {},
   "outputs": [
    {
     "data": {
      "text/plain": [
       "False"
      ]
     },
     "execution_count": 20,
     "metadata": {},
     "output_type": "execute_result"
    }
   ],
   "source": []
  },
  {
   "cell_type": "code",
   "execution_count": 15,
   "id": "7775860f",
   "metadata": {},
   "outputs": [
    {
     "name": "stdout",
     "output_type": "stream",
     "text": [
      "[10]\n",
      "serialized point: [72, 48, 78, 165, 20, 239, 55, 130, 7, 76, 64, 134, 234, 240, 202, 111, 127, 16, 207, 5, 54, 170, 103, 128, 48, 202, 239, 150, 228, 141, 251, 41]\n",
      "[10]\n",
      "serialized point: [36, 177, 38, 100, 133, 236, 151, 217, 196, 68, 244, 124, 171, 18, 180, 157, 175, 215, 12, 80, 96, 19, 94, 189, 134, 235, 214, 62, 218, 180, 104, 33]\n",
      "serialized point: [32, 25, 146, 0, 2, 208, 245, 162, 237, 139, 249, 84, 243, 180, 111, 99, 250, 205, 141, 125, 63, 48, 136, 129, 123, 247, 49, 131, 255, 186, 74, 12]\n",
      "serialized point: [181, 198, 228, 118, 231, 126, 14, 221, 246, 62, 213, 37, 67, 191, 243, 160, 190, 106, 244, 12, 8, 110, 189, 2, 144, 122, 181, 189, 40, 14, 78, 45]\n",
      "{\n",
      "  \"pk\": {\n",
      "    \"curve\": \"bn254\",\n",
      "    \"point\": \"2019920002d0f5a2ed8bf954f3b46f63facd8d7d3f3088817bf73183ffba4a0c\"\n",
      "  },\n",
      "  \"pk_t_rand_commitment\": {\n",
      "    \"curve\": \"bn254\",\n",
      "    \"point\": \"b5c6e476e77e0eddf63ed52543bff3a0be6af40c086ebd02907ab5bd280e4e2d\"\n",
      "  },\n",
      "  \"challenge_response\": {\n",
      "    \"curve\": \"bn254\",\n",
      "    \"scalar\": \"8b925d1e886f392b459139d2530d7033029fec74b31dcacba74c8d4de6706123\"\n",
      "  }\n",
      "}\n",
      "True\n"
     ]
    }
   ],
   "source": [
    "# proof of knowledge: lets create a zk proof and then verify it\n",
    "\n",
    "#g2val = zkbp.g_to_x(gh,value)\n",
    "sval = 10\n",
    "r = r_blend()\n",
    "cm = Commit(gh,sval,r)\n",
    "tk = pk_sk_obj.to_token(r.val)\n",
    "#h2r = Commit(gh,0,r).eval\n",
    "#tk = pk_sk_obj.to_token(r.val)\n",
    "h2r = zkbp.sub(zkbp.from_str(cm.eval.get), zkbp.from_str(zkbp.g_to_x(gh, sval).get))\n",
    "pr = zkbp.sigma_dlog_proof_explicit_sha256(tk,pk_sk_obj,h2r)\n",
    "t = zkbp.sigma_dlog_proof_explicit_verify_sha256(pr,h2r,tk)\n",
    "\n",
    "print(pr)\n",
    "print(t)\n",
    "# hash order: pk_t_rand_commitment, h2r, pk"
   ]
  },
  {
   "cell_type": "code",
   "execution_count": 11,
   "id": "94d57bfc",
   "metadata": {},
   "outputs": [
    {
     "name": "stdout",
     "output_type": "stream",
     "text": [
      "[123, 84, 182, 104, 54, 193, 251, 221, 19, 210, 68, 29, 158, 20, 52, 220, 98, 202, 103, 127, 182, 143, 95, 230, 106, 70, 75, 170, 222, 205, 189, 0, 87, 111, 141, 107, 90, 195, 188, 200, 8, 68, 183, 213, 11, 28, 198, 96, 52, 68, 187, 231, 207, 207, 143, 192, 170, 30, 227, 198, 54, 217, 227, 57]\n",
      "[123, 84, 182, 104, 54, 193, 251, 221, 19, 210, 68, 29, 158, 20, 52, 220, 98, 202, 103, 127, 182, 143, 95, 230, 106, 70, 75, 170, 222, 205, 189]\n",
      "[2, 123, 84, 182, 104, 54, 193, 251, 221, 19, 210, 68, 29, 158, 20, 52, 220, 98, 202, 103, 127, 182, 143, 95, 230, 106, 70, 75, 170, 222, 205, 189]\n",
      "abc 21888242871839275222246405745257275088548364400416034343698204186575808495617\n",
      "[23, 22, 9, 158, 53, 95, 48, 125, 221, 49, 101, 3, 196, 0, 247, 17, 53, 63, 49, 198, 8, 134, 137, 240, 185, 177, 242, 242, 145, 152, 137, 74]\n",
      "[23, 22, 9, 158, 53, 95, 48, 125, 221, 49, 101, 3, 196, 0, 247, 17, 53, 63, 49, 198, 8, 134, 137, 240, 185, 177, 242, 242, 145, 152, 137]\n",
      "[2, 23, 22, 9, 158, 53, 95, 48, 125, 221, 49, 101, 3, 196, 0, 247, 17, 53, 63, 49, 198, 8, 134, 137, 240, 185, 177, 242, 242, 145, 152, 137]\n",
      "abc 21888242871839275222246405745257275088548364400416034343698204186575808495617\n",
      "[46, 44, 19, 60, 106, 190, 96, 251, 186, 98, 202, 7, 136, 1, 238, 34, 106, 126, 99, 140, 17, 13, 19, 225, 115, 99, 229, 229, 35, 49, 18, 148]\n",
      "[46, 44, 19, 60, 106, 190, 96, 251, 186, 98, 202, 7, 136, 1, 238, 34, 106, 126, 99, 140, 17, 13, 19, 225, 115, 99, 229, 229, 35, 49, 18]\n",
      "[2, 46, 44, 19, 60, 106, 190, 96, 251, 186, 98, 202, 7, 136, 1, 238, 34, 106, 126, 99, 140, 17, 13, 19, 225, 115, 99, 229, 229, 35, 49, 18]\n",
      "[10]\n"
     ]
    },
    {
     "ename": "AttributeError",
     "evalue": "module 'zkbp' has no attribute 'range_proof_single'",
     "output_type": "error",
     "traceback": [
      "\u001b[0;31m---------------------------------------------------------------------------\u001b[0m",
      "\u001b[0;31mAttributeError\u001b[0m                            Traceback (most recent call last)",
      "Cell \u001b[0;32mIn[11], line 7\u001b[0m\n\u001b[1;32m      5\u001b[0m cm \u001b[38;5;241m=\u001b[39m Commit(gh, v, r)\n\u001b[1;32m      6\u001b[0m n_bit \u001b[38;5;241m=\u001b[39m \u001b[38;5;241m4\u001b[39m \u001b[38;5;66;03m#(try 1, 2)\u001b[39;00m\n\u001b[0;32m----> 7\u001b[0m pr \u001b[38;5;241m=\u001b[39m \u001b[43mzkbp\u001b[49m\u001b[38;5;241;43m.\u001b[39;49m\u001b[43mrange_proof_single\u001b[49m(n_bit\u001b[38;5;241m=\u001b[39mn_bit, val\u001b[38;5;241m=\u001b[39mv, gh\u001b[38;5;241m=\u001b[39mgh, r\u001b[38;5;241m=\u001b[39mr\u001b[38;5;241m.\u001b[39mval)\n\u001b[1;32m      8\u001b[0m res \u001b[38;5;241m=\u001b[39m zkbp\u001b[38;5;241m.\u001b[39mrange_proof_single_verify(pr, n_bit, gh, cm\u001b[38;5;241m.\u001b[39meval)\n\u001b[1;32m      9\u001b[0m \u001b[38;5;28mprint\u001b[39m(pr)\n",
      "\u001b[0;31mAttributeError\u001b[0m: module 'zkbp' has no attribute 'range_proof_single'"
     ]
    }
   ],
   "source": [
    "# lets create a range proof\n",
    "v = 10 #(try -1, 1 )\n",
    "r = r_blend()\n",
    "gh = zkbp.gen_GH()\n",
    "cm = Commit(gh, v, r)\n",
    "n_bit = 4 #(try 1, 2)\n",
    "pr = zkbp.range_proof_single(n_bit=n_bit, val=v, gh=gh, r=r.val)\n",
    "res = zkbp.range_proof_single_verify(pr, n_bit, gh, cm.eval)\n",
    "print(pr)\n",
    "print(res)"
   ]
  },
  {
   "cell_type": "code",
   "execution_count": null,
   "id": "45daf458",
   "metadata": {},
   "outputs": [],
   "source": [
    "# finally lets try a discrete log equality proof \n",
    "# this proof lets you prove a balance .. \n",
    "# that sum of commits will open to balance and sum of tokens blinding factors (rs)\n",
    "r = r_blend()\n",
    "val = 10\n",
    "tk = pk_sk_obj.to_token(r.val)\n",
    "cm = Commit(gh,val,r).eval\n",
    "h_sum_r = zkbp.sub(cm, zkbp.g_to_x(gh, val))\n",
    "pr = zkbp.sigma_eq_dlog_proof_sha256(tk, pk_sk_obj, gh, h_sum_r)\n",
    "cm = Commit(gh,val,r).eval\n",
    "print(pr)\n",
    "res = zkbp.sigma_eq_dlog_verify_sha256(pr, gh, h_sum_r, tk)\n",
    "print(res)"
   ]
  },
  {
   "cell_type": "code",
   "execution_count": 13,
   "id": "511c994a",
   "metadata": {},
   "outputs": [
    {
     "name": "stdout",
     "output_type": "stream",
     "text": [
      "[0]\n",
      "tk is 032733bee9ec534ae2a7a04dc5e32a7075c809ecb9446db4a72609859d908680\n",
      "cm is 81ad9285fe19f4e21fceec735aa57685a39326005168aa5f99fd34592e7c9d17\n",
      "pk is 96bb8083d4c32ed00cedd68196b275128feeee2ee029fcefba265e2c5f82d62f\n",
      "serialized point: [3, 39, 51, 190, 233, 236, 83, 74, 226, 167, 160, 77, 197, 227, 42, 112, 117, 200, 9, 236, 185, 68, 109, 180, 167, 38, 9, 133, 157, 144, 134, 128]\n",
      "{\n",
      "  \"t1\": {\n",
      "    \"curve\": \"bn254\",\n",
      "    \"point\": \"6929b54142a92bdaa5671a0e2005f3bc4593eb21161236c4ef9de7e1a3075882\"\n",
      "  },\n",
      "  \"t2\": {\n",
      "    \"curve\": \"bn254\",\n",
      "    \"point\": \"d2ec2dc62d38c874b19c9b4e04a3db4c98cb376e52108051f33982dd2ebdc319\"\n",
      "  },\n",
      "  \"s1\": {\n",
      "    \"curve\": \"bn254\",\n",
      "    \"scalar\": \"19ff8502b96bf5f54b41eb49ec86e5f5022839728eb930dcb532e4afa8c65224\"\n",
      "  },\n",
      "  \"s2\": {\n",
      "    \"curve\": \"bn254\",\n",
      "    \"scalar\": \"8975c6dd76075241c61035e67101389cd3e6ba498c4b0ef40d2558950ffa1307\"\n",
      "  },\n",
      "  \"challenge\": {\n",
      "    \"curve\": \"bn254\",\n",
      "    \"scalar\": \"0444d777a2ac7e135fd2b6e1bb26aac577202ec36c519d8408f63a58e69c1d24\"\n",
      "  }\n",
      "}\n",
      "True\n",
      "[0]\n",
      "serialized point: [129, 173, 146, 133, 254, 25, 244, 226, 31, 206, 236, 115, 90, 165, 118, 133, 163, 147, 38, 0, 81, 104, 170, 95, 153, 253, 52, 89, 46, 124, 157, 23]\n",
      "[0]\n",
      "serialized point: [105, 41, 181, 65, 66, 169, 43, 218, 165, 103, 26, 14, 32, 5, 243, 188, 69, 147, 235, 33, 22, 18, 54, 196, 239, 157, 231, 225, 163, 7, 88, 130]\n",
      "serialized point: [210, 236, 45, 198, 45, 56, 200, 116, 177, 156, 155, 78, 4, 163, 219, 76, 152, 203, 55, 110, 82, 16, 128, 81, 243, 57, 130, 221, 46, 189, 195, 25]\n",
      "serialized point: [150, 187, 128, 131, 212, 195, 46, 208, 12, 237, 214, 129, 150, 178, 117, 18, 143, 238, 238, 46, 224, 41, 252, 239, 186, 38, 94, 44, 95, 130, 214, 47]\n"
     ]
    }
   ],
   "source": [
    "r = r_blend()\n",
    "rd = -r \n",
    "newr = rd + r\n",
    "v = 0\n",
    "tk = pk_sk_obj.to_token(r.val)\n",
    "print(f'tk is {tk.get}')\n",
    "cm = Commit(gh,v,r).eval\n",
    "print(f'cm is {cm.get}')\n",
    "print(f'pk is {pk}')\n",
    "pr = zkbp.consistency_proof(v,r.val,gh,cm,tk,pk)\n",
    "print(pr)\n",
    "result = zkbp.consistency_proof_verify(proof=pr, gh=gh, ped_cm=cm, token=tk,\n",
    "                                               pubkey=pk_sk_obj.get_pk())\n",
    "print(result)"
   ]
  },
  {
   "cell_type": "code",
   "execution_count": null,
   "id": "34bb3b3a-c2a8-44b6-a68b-790634e47b75",
   "metadata": {},
   "outputs": [],
   "source": []
  }
 ],
 "metadata": {
  "kernelspec": {
   "display_name": "Python 3 (ipykernel)",
   "language": "python",
   "name": "python3"
  },
  "language_info": {
   "codemirror_mode": {
    "name": "ipython",
    "version": 3
   },
   "file_extension": ".py",
   "mimetype": "text/x-python",
   "name": "python",
   "nbconvert_exporter": "python",
   "pygments_lexer": "ipython3",
   "version": "3.13.0"
  }
 },
 "nbformat": 4,
 "nbformat_minor": 5
}
