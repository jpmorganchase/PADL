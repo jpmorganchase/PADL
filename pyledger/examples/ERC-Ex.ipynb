{
 "cells": [
  {
   "cell_type": "code",
   "execution_count": 3,
   "id": "6f04f2ae-d630-411a-b401-4afc5fad5436",
   "metadata": {},
   "outputs": [],
   "source": [
    "import os \n",
    "from pathlib import Path\n",
    "from eth_account import Account\n",
    "import sys\n",
    "path = os.path.abspath('')\n",
    "parent_dir = str(Path(path).parents[2])\n",
    "main_dir = str(Path(path).parents[2])\n",
    "sys.path.append(parent_dir)\n",
    "from pyledger.extras.evmnet.participant_scripts import *\n",
    "from pyledger.extras.evmnet.evmpadl import EvmLedger\n",
    "from pyledger.ledger import BankCommunication\n",
    "from pyledger.examples.padl_deployERC import get_url, get_issuer_account_dict"
   ]
  },
  {
   "cell_type": "markdown",
   "id": "b75af33a-400d-46b8-a745-17ce22f40ad4",
   "metadata": {},
   "source": [
    "## SETUP: Make connection, Issuer deploys contracts, another participants arrives, shares address and public key."
   ]
  },
  {
   "cell_type": "code",
   "execution_count": 5,
   "id": "05f09218-ccb8-4d0d-9fc3-b2215e1dba99",
   "metadata": {},
   "outputs": [
    {
     "name": "stdout",
     "output_type": "stream",
     "text": [
      "deploy\n",
      "created ledger\n",
      "added participant to ledger\n",
      "new account created with address 0x1A672dF1384e7F6c065e8667021049b20572Ff83\n",
      "address 0x1A672dF1384e7F6c065e8667021049b20572Ff83\n",
      "account address 0xFE3B557E8Fb62b89F4916B721be55cEb828dBd73\n"
     ]
    }
   ],
   "source": [
    "url = get_url()\n",
    "chain_id = 1337\n",
    "local_dirname = str(Path(path).parents[2])\n",
    "w3 = Web3(Web3.HTTPProvider(url, request_kwargs={'timeout': 600000}))\n",
    "\n",
    "####################################################################################################################\n",
    "issuer_account_dict = get_issuer_account_dict()\n",
    "account_address = issuer_account_dict['address']\n",
    "example_private_key = issuer_account_dict['private_key']\n",
    "public_key = issuer_account_dict['public_key']\n",
    "private_key = example_private_key\n",
    "account_address2 = \"0x8c171946c84D214e9F54fF22F515347dA4d78F7B\" # participants account address\n",
    "account_address = Web3.toChecksumAddress(account_address)\n",
    "account_address2 = Web3.toChecksumAddress(account_address2)\n",
    "LocalAccount = Account.from_key(example_private_key)\n",
    "\n",
    "#####################################################################################################################\n",
    "ledger,bank = deploy_PADLOnChain(example_private_key, contract_tx_name=\"PADLOnChainBN\", file_name_contract=\"PADLOnChainBN.sol\")\n",
    "contract_address = ledger.deployed_address\n",
    "account_dict = create_account(contract_address=contract_address)\n",
    "add_participant(account_dict[\"address\"])#, \"Issuer 0\", contract_tx_name=contract_tx_name, file_name_contract=file_name_contract)\n",
    "publickey_bank = account_dict['public_key']\n",
    "\n",
    "#####################################################################################################################\n",
    "bank=register_padl('Bank', account_dict, v0=[0,0] , types={'0': 'cash-token', '1': 'fund-token'})\n",
    "bank_gkp = PadlEVM(secret_key=account_dict['private_key'], contract_address=account_dict['contract_address'], contract_tx_name=\"PADLOnChainBN\", file_name_contract=\"PADLOnChainBN.sol\")\n",
    "pks = bank_gkp.retrieve_pks()\n",
    "pub_keys = [public_key, publickey_bank]\n"
   ]
  },
  {
   "cell_type": "markdown",
   "id": "bf022761-7c1c-4971-a505-e1b428b3cce9",
   "metadata": {},
   "source": [
    "## To deploy private token we start with initial supply encrypted as commitment and token and address of contract with verification schemes for zkproofs"
   ]
  },
  {
   "cell_type": "code",
   "execution_count": 6,
   "id": "6a0470b0-faa3-46c7-98d1-09b0983ded9c",
   "metadata": {},
   "outputs": [],
   "source": [
    "# Generate initial supply commitment token\n",
    "initSupply = 100\n",
    "r = r_blend()\n",
    "cm = Commit(zkbp.gen_GH(), initSupply, r).eval.get\n",
    "tk = zkbp.to_token_from_pk(public_key, r.val).get\n",
    "commit = BNCurve.get_xy(cm)\n",
    "token = BNCurve.get_xy(tk)"
   ]
  },
  {
   "cell_type": "code",
   "execution_count": 7,
   "id": "350032e6-f398-43f6-bf8c-f77f01295b12",
   "metadata": {},
   "outputs": [],
   "source": [
    "contract_args = (100, commit, token, contract_address, ledger.bnaddress, ledger.eqaddress, ledger.consaddress)\n",
    "ev = EvmLedger(BankCommunication(), \"PadlTokenBN.sol\", local_dirname, w3, chain_id, account_address, private_key, \"PadlTokenBN\")\n",
    "deployed_address = ev.deploy_padl_erc(contract_args)"
   ]
  },
  {
   "cell_type": "markdown",
   "id": "40bcc41e-21a9-403b-beb8-55e11314cec8",
   "metadata": {},
   "source": [
    "## ERC contract deployed, check private balance"
   ]
  },
  {
   "cell_type": "code",
   "execution_count": 8,
   "id": "8e680b70-5f08-4c9c-9c24-b336c7b4aa9a",
   "metadata": {},
   "outputs": [
    {
     "name": "stdout",
     "output_type": "stream",
     "text": [
      "[11144450123644420088300977058589705499228572341681427418602605436952194929011, 6375695031510797692084216548309518758817063188403536718930574482292251350322, 19020900772094321149345331822032156566737754254110884207605591971457462817099, 13759308080568389150176506272352638813954110926142468533084424804277266825928]\n",
      "balance is 100\n"
     ]
    },
    {
     "data": {
      "text/plain": [
       "100"
      ]
     },
     "execution_count": 8,
     "metadata": {},
     "output_type": "execute_result"
    }
   ],
   "source": [
    "conn = ev.connect_to_evm()\n",
    "contract = conn['contract_obj']\n",
    "b = contract.functions.privateBalanceOf(account_address).call()\n",
    "print(b)\n",
    "check_balance_by_commit_token('Issuer 0', (b[0], b[1]), (b[2], b[3]))"
   ]
  },
  {
   "cell_type": "code",
   "execution_count": 9,
   "id": "d9b61519-a462-4498-87e8-65db39b68f01",
   "metadata": {},
   "outputs": [
    {
     "name": "stdout",
     "output_type": "stream",
     "text": [
      "[0, 0, 0, 0]\n"
     ]
    }
   ],
   "source": [
    "print(contract.functions.privateBalanceOf(account_address2).call())"
   ]
  },
  {
   "cell_type": "markdown",
   "id": "7d86e26f-3ed5-4647-bdcf-630d56b4b277",
   "metadata": {},
   "source": [
    "## Next generate a transaction including commitment, token and all zk proofs and call privateTransfer function on token contract"
   ]
  },
  {
   "cell_type": "code",
   "execution_count": 10,
   "id": "3437eaf5-aa0b-434f-9784-a77aaf5c1fe1",
   "metadata": {},
   "outputs": [
    {
     "name": "stdout",
     "output_type": "stream",
     "text": [
      "balance is 98\n",
      "balance is 2\n",
      "transaction done\n"
     ]
    }
   ],
   "source": [
    "tx_str = get_private_tx_str(pub_keys, [[-2, 2]], file_name='Issuer 0', state=[cm,tk], old_balance=100, audit_pk=None)\n",
    "nonce = w3.eth.get_transaction_count(account_address)\n",
    "transaction = contract.functions.privateTransfer(account_address, account_address2, tx_str[0], tx_str[1]).buildTransaction(\n",
    "    {\n",
    "        \"chainId\":chain_id, \"from\":account_address, \"nonce\":nonce\n",
    "    }\n",
    ")\n",
    "\n",
    "signed_txn = w3.eth.account.sign_transaction(transaction,private_key=private_key)\n",
    "tx_hash = w3.eth.send_raw_transaction(signed_txn.rawTransaction)\n",
    "tx_receipt = w3.eth.wait_for_transaction_receipt(tx_hash)\n",
    "\n",
    "b = contract.functions.privateBalanceOf(account_address).call()\n",
    "check_balance_by_commit_token('Issuer 0', (b[0], b[1]), (b[2], b[3]))\n",
    "b = contract.functions.privateBalanceOf(account_address2).call()\n",
    "check_balance_by_commit_token('Bank 1', (b[0], b[1]), (b[2], b[3]))\n",
    "print('transaction done')"
   ]
  },
  {
   "cell_type": "code",
   "execution_count": 11,
   "id": "d0db63c8-66fd-4d56-bab0-ff0018d32732",
   "metadata": {},
   "outputs": [
    {
     "name": "stdout",
     "output_type": "stream",
     "text": [
      "balance is -1\n"
     ]
    },
    {
     "data": {
      "text/plain": [
       "-1"
      ]
     },
     "execution_count": 11,
     "metadata": {},
     "output_type": "execute_result"
    }
   ],
   "source": [
    "check_balance_by_commit_token('Issuer 0', (b[0], b[1]), (b[2], b[3]))"
   ]
  },
  {
   "cell_type": "code",
   "execution_count": null,
   "id": "942e0cc0-5126-4d1e-8a73-25c2061be368",
   "metadata": {},
   "outputs": [],
   "source": []
  },
  {
   "cell_type": "code",
   "execution_count": 12,
   "id": "9cb807a7-00d2-4c10-b434-fb7ea6321ec4",
   "metadata": {},
   "outputs": [
    {
     "name": "stdout",
     "output_type": "stream",
     "text": [
      "98\n"
     ]
    }
   ],
   "source": [
    "b = contract.functions.privateBalanceOf(account_address).call()\n",
    "bank = utils.load_bank_from_file(\"Issuer 0\")\n",
    "cc = zkbp.from_str(BNCurve.get_compressed_ecpoint(b[0], b[1]))\n",
    "tc = zkbp.to_token_from_str(BNCurve.get_compressed_ecpoint(b[2], b[3]))\n",
    "gh = zkbp.gen_GH()\n",
    "bal = zkbp.get_brut_v(cc,tc, gh, bank.sk_pk_obj, MAX)\n",
    "print(bal) "
   ]
  },
  {
   "cell_type": "code",
   "execution_count": 13,
   "id": "8c1e6bd4-171b-4328-abe7-327538d2d7c0",
   "metadata": {},
   "outputs": [],
   "source": [
    "tx_str = get_private_tx_str(pub_keys, [[-2, 2]], file_name='Issuer 0', state=[cc.get,tc.get], old_balance=98, audit_pk=None)"
   ]
  },
  {
   "cell_type": "code",
   "execution_count": 14,
   "id": "15b35325-bd34-426a-831b-0771e96bbe0e",
   "metadata": {},
   "outputs": [],
   "source": [
    "nonce = w3.eth.get_transaction_count(account_address)\n",
    "transaction = contract.functions.privateTransfer(account_address, account_address2, tx_str[0], tx_str[1]).buildTransaction(\n",
    "    {\n",
    "        \"chainId\":chain_id, \"from\":account_address, \"nonce\":nonce\n",
    "    }\n",
    ")\n",
    "\n",
    "signed_txn = w3.eth.account.sign_transaction(transaction,private_key=private_key)\n",
    "tx_hash = w3.eth.send_raw_transaction(signed_txn.rawTransaction)\n",
    "tx_receipt = w3.eth.wait_for_transaction_receipt(tx_hash)\n"
   ]
  },
  {
   "cell_type": "code",
   "execution_count": 15,
   "id": "07f547a8-cac4-474d-b5ac-66ea22a6c790",
   "metadata": {},
   "outputs": [
    {
     "name": "stdout",
     "output_type": "stream",
     "text": [
      "balance is 96\n"
     ]
    },
    {
     "data": {
      "text/plain": [
       "96"
      ]
     },
     "execution_count": 15,
     "metadata": {},
     "output_type": "execute_result"
    }
   ],
   "source": [
    "b = contract.functions.privateBalanceOf(account_address).call()\n",
    "check_balance_by_commit_token('Issuer 0', (b[0], b[1]), (b[2], b[3]))"
   ]
  },
  {
   "cell_type": "code",
   "execution_count": 16,
   "id": "d9951d0f-e672-429b-94b5-101af81f7fab",
   "metadata": {},
   "outputs": [
    {
     "name": "stdout",
     "output_type": "stream",
     "text": [
      "balance is 4\n"
     ]
    },
    {
     "data": {
      "text/plain": [
       "4"
      ]
     },
     "execution_count": 16,
     "metadata": {},
     "output_type": "execute_result"
    }
   ],
   "source": [
    "b = contract.functions.privateBalanceOf(account_address2).call()\n",
    "check_balance_by_commit_token('Bank 1', (b[0], b[1]), (b[2], b[3]))"
   ]
  },
  {
   "cell_type": "code",
   "execution_count": null,
   "id": "93a23365-1c84-44ca-ac40-9b35bba07288",
   "metadata": {},
   "outputs": [],
   "source": []
  },
  {
   "cell_type": "code",
   "execution_count": null,
   "id": "0a88326b-691b-465a-b75d-e541b00f2989",
   "metadata": {},
   "outputs": [],
   "source": []
  }
 ],
 "metadata": {
  "kernelspec": {
   "display_name": "Python 3 (ipykernel)",
   "language": "python",
   "name": "python3"
  },
  "language_info": {
   "codemirror_mode": {
    "name": "ipython",
    "version": 3
   },
   "file_extension": ".py",
   "mimetype": "text/x-python",
   "name": "python",
   "nbconvert_exporter": "python",
   "pygments_lexer": "ipython3",
   "version": "3.10.15"
  }
 },
 "nbformat": 4,
 "nbformat_minor": 5
}
