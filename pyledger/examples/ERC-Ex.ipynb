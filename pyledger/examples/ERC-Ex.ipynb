{
 "cells": [
  {
   "cell_type": "code",
   "execution_count": 2,
   "id": "6f04f2ae-d630-411a-b401-4afc5fad5436",
   "metadata": {},
   "outputs": [
    {
     "name": "stdout",
     "output_type": "stream",
     "text": [
      "/Users/shaltieleloul/PADL/pyledger/extras/evmnet/ip_config.ini\n"
     ]
    }
   ],
   "source": [
    "import os \n",
    "from pathlib import Path\n",
    "from eth_account import Account\n",
    "import sys\n",
    "path = os.path.abspath('')\n",
    "parent_dir = str(Path(path).parents[1])\n",
    "main_dir = str(Path(path).parents[1])\n",
    "sys.path.append(parent_dir)\n",
    "from pyledger.extras.evmnet.participant_scripts import *\n",
    "from pyledger.extras.evmnet.evmpadl import EvmLedger\n",
    "from pyledger.ledger import BankCommunication"
   ]
  },
  {
   "cell_type": "markdown",
   "id": "b75af33a-400d-46b8-a745-17ce22f40ad4",
   "metadata": {},
   "source": [
    "## SETUP: Make connection, Issuer deploys contracts, another participants arrives, shares address and public key."
   ]
  },
  {
   "cell_type": "code",
   "execution_count": 5,
   "id": "05f09218-ccb8-4d0d-9fc3-b2215e1dba99",
   "metadata": {},
   "outputs": [
    {
     "name": "stdout",
     "output_type": "stream",
     "text": [
      "deploy\n",
      "created ledger\n",
      "added participant to ledger\n",
      "new account created with address 0xb122E4D8e8E338f568C69E6d2a2C34D964e7CC86\n",
      "address 0xb122E4D8e8E338f568C69E6d2a2C34D964e7CC86\n"
     ]
    }
   ],
   "source": [
    "url = \"http://127.0.0.1:8545\"\n",
    "chain_id = 1337\n",
    "local_dirname = str(Path(path).parents[2])\n",
    "w3 = Web3(Web3.HTTPProvider(url, request_kwargs={'timeout': 600000}))\n",
    "\n",
    "####################################################################################################################\n",
    "account_address = '0xFE3B557E8Fb62b89F4916B721be55cEb828dBd73'\n",
    "example_private_key = '0x8f2a55949038a9610f50fb23b5883af3b4ecb3c3bb792cbcefbd1542c692be63'\n",
    "public_key = '0c21444513f038286a2e46a73d57c438e397e2f76e412fef6507cb618b156ecc'\n",
    "private_key = example_private_key\n",
    "account_address2 = \"0x8c171946c84D214e9F54fF22F515347dA4d78F7B\" # participants account address\n",
    "account_address = Web3.toChecksumAddress(account_address)\n",
    "account_address2 = Web3.toChecksumAddress(account_address2)\n",
    "LocalAccount = Account.from_key(example_private_key)\n",
    "\n",
    "#####################################################################################################################\n",
    "ledger,bank = deploy_PADLOnChain(example_private_key, contract_tx_name=\"PADLOnChainBN\", file_name_contract=\"PADLOnChainBN.sol\")\n",
    "contract_address = ledger.deployed_address\n",
    "account_dict = create_account(contract_address=contract_address)\n",
    "add_participant(account_dict[\"address\"])#, \"Issuer 0\", contract_tx_name=contract_tx_name, file_name_contract=file_name_contract)\n",
    "publickey_bank = account_dict['public_key']\n",
    "\n",
    "#####################################################################################################################\n",
    "bank=register_padl('Bank', account_dict, v0=[0,0] , types={'0': 'cash-token', '1': 'fund-token'})\n",
    "bank_gkp = PadlEVM(secret_key=account_dict['private_key'], contract_address=account_dict['contract_address'], contract_tx_name=\"PADLOnChainBN\", file_name_contract=\"PADLOnChainBN.sol\")\n",
    "pks = bank_gkp.retrieve_pks()\n",
    "pub_keys = [public_key, publickey_bank]\n"
   ]
  },
  {
   "cell_type": "markdown",
   "id": "bf022761-7c1c-4971-a505-e1b428b3cce9",
   "metadata": {},
   "source": [
    "## To deploy private token we start with initial supply encrypted as commitment and token and address of contract with verification schemes for zkproofs"
   ]
  },
  {
   "cell_type": "code",
   "execution_count": 6,
   "id": "6a0470b0-faa3-46c7-98d1-09b0983ded9c",
   "metadata": {},
   "outputs": [],
   "source": [
    "# Generate initial supply commitment token\n",
    "initSupply = 100\n",
    "r = r_blend()\n",
    "cm = Commit(zkbp.gen_GH(), initSupply, r).eval.get\n",
    "tk = zkbp.to_token_from_pk(public_key, r.val).get\n",
    "commit = BNCurve.get_xy(cm)\n",
    "token = BNCurve.get_xy(tk)"
   ]
  },
  {
   "cell_type": "code",
   "execution_count": 8,
   "id": "350032e6-f398-43f6-bf8c-f77f01295b12",
   "metadata": {},
   "outputs": [
    {
     "ename": "SolcError",
     "evalue": "ParserError: Source \"ERC/ERC20.sol\" not found: File not found. Searched the following locations: \"/Users/shaltieleloul/PADL/pyledger/contracts\".\n --> PadlTokenBN.sol:6:1:\n  |\n6 | import \"./ERC/ERC20.sol\";\n  | ^^^^^^^^^^^^^^^^^^^^^^^^^\n\n\n> command: `/Users/shaltieleloul/.solcx/solc-v0.8.28 --standard-json --base-path /Users/shaltieleloul/PADL/pyledger/contracts --allow-paths /Users/shaltieleloul/PADL/pyledger/contracts`\n> return code: `0`\n> stdout:\n{\"errors\":[{\"component\":\"general\",\"errorCode\":\"1878\",\"formattedMessage\":\"Warning: SPDX license identifier not provided in source file. Before publishing, consider adding a comment containing \\\"SPDX-License-Identifier: <SPDX-License>\\\" to each source file. Use \\\"SPDX-License-Identifier: UNLICENSED\\\" for non-open-source code. Please see https://spdx.org for more information.\\n--> PadlTokenBN.sol\\n\\n\",\"message\":\"SPDX license identifier not provided in source file. Before publishing, consider adding a comment containing \\\"SPDX-License-Identifier: <SPDX-License>\\\" to each source file. Use \\\"SPDX-License-Identifier: UNLICENSED\\\" for non-open-source code. Please see https://spdx.org for more information.\",\"severity\":\"warning\",\"sourceLocation\":{\"end\":-1,\"file\":\"PadlTokenBN.sol\",\"start\":-1},\"type\":\"Warning\"},{\"component\":\"general\",\"errorCode\":\"6275\",\"formattedMessage\":\"ParserError: Source \\\"ERC/ERC20.sol\\\" not found: File not found. Searched the following locations: \\\"/Users/shaltieleloul/PADL/pyledger/contracts\\\".\\n --> PadlTokenBN.sol:6:1:\\n  |\\n6 | import \\\"./ERC/ERC20.sol\\\";\\n  | ^^^^^^^^^^^^^^^^^^^^^^^^^\\n\\n\",\"message\":\"Source \\\"ERC/ERC20.sol\\\" not found: File not found. Searched the following locations: \\\"/Users/shaltieleloul/PADL/pyledger/contracts\\\".\",\"severity\":\"error\",\"sourceLocation\":{\"end\":251,\"file\":\"PadlTokenBN.sol\",\"start\":226},\"type\":\"ParserError\"},{\"component\":\"general\",\"errorCode\":\"1878\",\"formattedMessage\":\"Warning: SPDX license identifier not provided in source file. Before publishing, consider adding a comment containing \\\"SPDX-License-Identifier: <SPDX-License>\\\" to each source file. Use \\\"SPDX-License-Identifier: UNLICENSED\\\" for non-open-source code. Please see https://spdx.org for more information.\\n--> Interfaces/BNInterface.sol\\n\\n\",\"message\":\"SPDX license identifier not provided in source file. Before publishing, consider adding a comment containing \\\"SPDX-License-Identifier: <SPDX-License>\\\" to each source file. Use \\\"SPDX-License-Identifier: UNLICENSED\\\" for non-open-source code. Please see https://spdx.org for more information.\",\"severity\":\"warning\",\"sourceLocation\":{\"end\":-1,\"file\":\"Interfaces/BNInterface.sol\",\"start\":-1},\"type\":\"Warning\"},{\"component\":\"general\",\"errorCode\":\"1878\",\"formattedMessage\":\"Warning: SPDX license identifier not provided in source file. Before publishing, consider adding a comment containing \\\"SPDX-License-Identifier: <SPDX-License>\\\" to each source file. Use \\\"SPDX-License-Identifier: UNLICENSED\\\" for non-open-source code. Please see https://spdx.org for more information.\\n--> Interfaces/PADLOnChainInterface.sol\\n\\n\",\"message\":\"SPDX license identifier not provided in source file. Before publishing, consider adding a comment containing \\\"SPDX-License-Identifier: <SPDX-License>\\\" to each source file. Use \\\"SPDX-License-Identifier: UNLICENSED\\\" for non-open-source code. Please see https://spdx.org for more information.\",\"severity\":\"warning\",\"sourceLocation\":{\"end\":-1,\"file\":\"Interfaces/PADLOnChainInterface.sol\",\"start\":-1},\"type\":\"Warning\"},{\"component\":\"general\",\"errorCode\":\"1878\",\"formattedMessage\":\"Warning: SPDX license identifier not provided in source file. Before publishing, consider adding a comment containing \\\"SPDX-License-Identifier: <SPDX-License>\\\" to each source file. Use \\\"SPDX-License-Identifier: UNLICENSED\\\" for non-open-source code. Please see https://spdx.org for more information.\\n--> Interfaces/ConsistencyProofInterface.sol\\n\\n\",\"message\":\"SPDX license identifier not provided in source file. Before publishing, consider adding a comment containing \\\"SPDX-License-Identifier: <SPDX-License>\\\" to each source file. Use \\\"SPDX-License-Identifier: UNLICENSED\\\" for non-open-source code. Please see https://spdx.org for more information.\",\"severity\":\"warning\",\"sourceLocation\":{\"end\":-1,\"file\":\"Interfaces/ConsistencyProofInterface.sol\",\"start\":-1},\"type\":\"Warning\"},{\"component\":\"general\",\"errorCode\":\"1878\",\"formattedMessage\":\"Warning: SPDX license identifier not provided in source file. Before publishing, consider adding a comment containing \\\"SPDX-License-Identifier: <SPDX-License>\\\" to each source file. Use \\\"SPDX-License-Identifier: UNLICENSED\\\" for non-open-source code. Please see https://spdx.org for more information.\\n--> Interfaces/EquivalenceProofInterface.sol\\n\\n\",\"message\":\"SPDX license identifier not provided in source file. Before publishing, consider adding a comment containing \\\"SPDX-License-Identifier: <SPDX-License>\\\" to each source file. Use \\\"SPDX-License-Identifier: UNLICENSED\\\" for non-open-source code. Please see https://spdx.org for more information.\",\"severity\":\"warning\",\"sourceLocation\":{\"end\":-1,\"file\":\"Interfaces/EquivalenceProofInterface.sol\",\"start\":-1},\"type\":\"Warning\"}],\"sources\":{}}\n\n> stderr:",
     "output_type": "error",
     "traceback": [
      "\u001b[0;31m---------------------------------------------------------------------------\u001b[0m",
      "\u001b[0;31mSolcError\u001b[0m                                 Traceback (most recent call last)",
      "Cell \u001b[0;32mIn[8], line 3\u001b[0m\n\u001b[1;32m      1\u001b[0m contract_args \u001b[38;5;241m=\u001b[39m (\u001b[38;5;241m100\u001b[39m, commit, token, contract_address, ledger\u001b[38;5;241m.\u001b[39mbnaddress, ledger\u001b[38;5;241m.\u001b[39meqaddress, ledger\u001b[38;5;241m.\u001b[39mconsaddress)\n\u001b[1;32m      2\u001b[0m ev \u001b[38;5;241m=\u001b[39m EvmLedger(BankCommunication(), \u001b[38;5;124m\"\u001b[39m\u001b[38;5;124mPadlTokenBN.sol\u001b[39m\u001b[38;5;124m\"\u001b[39m, local_dirname, w3, chain_id, account_address, private_key, \u001b[38;5;124m\"\u001b[39m\u001b[38;5;124mPadlTokenBN\u001b[39m\u001b[38;5;124m\"\u001b[39m)\n\u001b[0;32m----> 3\u001b[0m deployed_address \u001b[38;5;241m=\u001b[39m \u001b[43mev\u001b[49m\u001b[38;5;241;43m.\u001b[39;49m\u001b[43mdeploy_padl_erc\u001b[49m\u001b[43m(\u001b[49m\u001b[43mcontract_args\u001b[49m\u001b[43m)\u001b[49m\n",
      "File \u001b[0;32m~/PADL/pyledger/extras/evmnet/evmpadl.py:208\u001b[0m, in \u001b[0;36mEvmLedger.deploy_padl_erc\u001b[0;34m(self, contract_args)\u001b[0m\n\u001b[1;32m    203\u001b[0m \u001b[38;5;28;01mdef\u001b[39;00m \u001b[38;5;21mdeploy_padl_erc\u001b[39m(\u001b[38;5;28mself\u001b[39m,contract_args):\n\u001b[1;32m    204\u001b[0m     contract_dict \u001b[38;5;241m=\u001b[39m {\u001b[38;5;124m\"\u001b[39m\u001b[38;5;124mcontract_location\u001b[39m\u001b[38;5;124m\"\u001b[39m: \u001b[38;5;28;01mNone\u001b[39;00m,\n\u001b[1;32m    205\u001b[0m                           \u001b[38;5;124m\"\u001b[39m\u001b[38;5;124mcontract_name\u001b[39m\u001b[38;5;124m\"\u001b[39m: \u001b[38;5;124m\"\u001b[39m\u001b[38;5;124mPadlTokenBN\u001b[39m\u001b[38;5;124m\"\u001b[39m,\n\u001b[1;32m    206\u001b[0m                           \u001b[38;5;124m\"\u001b[39m\u001b[38;5;124mfile_name\u001b[39m\u001b[38;5;124m\"\u001b[39m: \u001b[38;5;124m\"\u001b[39m\u001b[38;5;124mPadlTokenBN.sol\u001b[39m\u001b[38;5;124m\"\u001b[39m,\n\u001b[1;32m    207\u001b[0m                           \u001b[38;5;124m\"\u001b[39m\u001b[38;5;124margs\u001b[39m\u001b[38;5;124m\"\u001b[39m: contract_args}\n\u001b[0;32m--> 208\u001b[0m     padlercadd \u001b[38;5;241m=\u001b[39m \u001b[38;5;28;43mself\u001b[39;49m\u001b[38;5;241;43m.\u001b[39;49m\u001b[43mdeploy\u001b[49m\u001b[43m(\u001b[49m\u001b[43mcontract_dict\u001b[49m\u001b[38;5;241;43m=\u001b[39;49m\u001b[43mcontract_dict\u001b[49m\u001b[43m)\u001b[49m\n\u001b[1;32m    209\u001b[0m     \u001b[38;5;28;01mreturn\u001b[39;00m padlercadd\n",
      "File \u001b[0;32m~/PADL/pyledger/extras/evmnet/evmpadl.py:130\u001b[0m, in \u001b[0;36mEvmLedger.deploy\u001b[0;34m(self, contract_dict, recompile)\u001b[0m\n\u001b[1;32m    127\u001b[0m file_name_contract, contract_tx_name, contract_args, _ \u001b[38;5;241m=\u001b[39m \u001b[38;5;28mself\u001b[39m\u001b[38;5;241m.\u001b[39mget_contract_details(contract_dict)\n\u001b[1;32m    129\u001b[0m \u001b[38;5;28;01mif\u001b[39;00m recompile:\n\u001b[0;32m--> 130\u001b[0m     compiled_sol \u001b[38;5;241m=\u001b[39m \u001b[38;5;28;43mself\u001b[39;49m\u001b[38;5;241;43m.\u001b[39;49m\u001b[43mcompile_contract\u001b[49m\u001b[43m(\u001b[49m\u001b[43mcontract_dict\u001b[49m\u001b[43m)\u001b[49m\n\u001b[1;32m    131\u001b[0m \u001b[38;5;28;01melse\u001b[39;00m:\n\u001b[1;32m    132\u001b[0m     \u001b[38;5;28;01mwith\u001b[39;00m \u001b[38;5;28mopen\u001b[39m(os\u001b[38;5;241m.\u001b[39mpath\u001b[38;5;241m.\u001b[39mjoin(\u001b[38;5;28mself\u001b[39m\u001b[38;5;241m.\u001b[39mlocal_dirname, \u001b[38;5;28mself\u001b[39m\u001b[38;5;241m.\u001b[39mcompiled_file_path \u001b[38;5;241m+\u001b[39m file_name_contract \u001b[38;5;241m+\u001b[39m \u001b[38;5;124m'\u001b[39m\u001b[38;5;124m.json\u001b[39m\u001b[38;5;124m'\u001b[39m), \u001b[38;5;124m\"\u001b[39m\u001b[38;5;124mr\u001b[39m\u001b[38;5;124m\"\u001b[39m) \u001b[38;5;28;01mas\u001b[39;00m f:\n",
      "File \u001b[0;32m~/PADL/pyledger/extras/evmnet/evmpadl.py:85\u001b[0m, in \u001b[0;36mEvmLedger.compile_contract\u001b[0;34m(self, contract_dict)\u001b[0m\n\u001b[1;32m     83\u001b[0m         compiled_sol \u001b[38;5;241m=\u001b[39m json\u001b[38;5;241m.\u001b[39mload(f)\n\u001b[1;32m     84\u001b[0m     \u001b[38;5;28;01mreturn\u001b[39;00m compiled_sol         \n\u001b[0;32m---> 85\u001b[0m compiled_sol \u001b[38;5;241m=\u001b[39m \u001b[43mcompile_standard\u001b[49m\u001b[43m(\u001b[49m\n\u001b[1;32m     86\u001b[0m \u001b[43m    \u001b[49m\u001b[43m{\u001b[49m\n\u001b[1;32m     87\u001b[0m \u001b[43m        \u001b[49m\u001b[38;5;124;43m\"\u001b[39;49m\u001b[38;5;124;43mlanguage\u001b[39;49m\u001b[38;5;124;43m\"\u001b[39;49m\u001b[43m:\u001b[49m\u001b[43m \u001b[49m\u001b[38;5;124;43m\"\u001b[39;49m\u001b[38;5;124;43mSolidity\u001b[39;49m\u001b[38;5;124;43m\"\u001b[39;49m\u001b[43m,\u001b[49m\n\u001b[1;32m     88\u001b[0m \u001b[43m        \u001b[49m\u001b[38;5;124;43m\"\u001b[39;49m\u001b[38;5;124;43msources\u001b[39;49m\u001b[38;5;124;43m\"\u001b[39;49m\u001b[43m:\u001b[49m\u001b[43m \u001b[49m\u001b[43m{\u001b[49m\u001b[43mfile_name_contract\u001b[49m\u001b[43m:\u001b[49m\u001b[43m \u001b[49m\u001b[43m{\u001b[49m\u001b[38;5;124;43m\"\u001b[39;49m\u001b[38;5;124;43mcontent\u001b[39;49m\u001b[38;5;124;43m\"\u001b[39;49m\u001b[43m:\u001b[49m\u001b[43m \u001b[49m\u001b[43mcontract_source\u001b[49m\u001b[43m}\u001b[49m\u001b[43m}\u001b[49m\u001b[43m,\u001b[49m\n\u001b[1;32m     89\u001b[0m \u001b[43m        \u001b[49m\u001b[38;5;124;43m\"\u001b[39;49m\u001b[38;5;124;43msettings\u001b[39;49m\u001b[38;5;124;43m\"\u001b[39;49m\u001b[43m:\u001b[49m\u001b[43m \u001b[49m\u001b[43m{\u001b[49m\n\u001b[1;32m     90\u001b[0m \u001b[43m            \u001b[49m\u001b[38;5;124;43m\"\u001b[39;49m\u001b[38;5;124;43moptimizer\u001b[39;49m\u001b[38;5;124;43m\"\u001b[39;49m\u001b[43m:\u001b[49m\u001b[43m{\u001b[49m\n\u001b[1;32m     91\u001b[0m \u001b[43m                \u001b[49m\u001b[38;5;124;43m\"\u001b[39;49m\u001b[38;5;124;43menabled\u001b[39;49m\u001b[38;5;124;43m\"\u001b[39;49m\u001b[43m:\u001b[49m\u001b[38;5;28;43;01mFalse\u001b[39;49;00m\u001b[43m,\u001b[49m\n\u001b[1;32m     92\u001b[0m \u001b[43m                    \u001b[49m\u001b[38;5;124;43m\"\u001b[39;49m\u001b[38;5;124;43mruns\u001b[39;49m\u001b[38;5;124;43m\"\u001b[39;49m\u001b[43m:\u001b[49m\u001b[43m \u001b[49m\u001b[38;5;241;43m100\u001b[39;49m\u001b[43m,\u001b[49m\n\u001b[1;32m     93\u001b[0m \u001b[43m                    \u001b[49m\u001b[38;5;124;43m\"\u001b[39;49m\u001b[38;5;124;43mdetails\u001b[39;49m\u001b[38;5;124;43m\"\u001b[39;49m\u001b[43m:\u001b[49m\u001b[43m \u001b[49m\u001b[43m{\u001b[49m\n\u001b[1;32m     94\u001b[0m \u001b[43m                        \u001b[49m\u001b[38;5;124;43m\"\u001b[39;49m\u001b[38;5;124;43mpeephole\u001b[39;49m\u001b[38;5;124;43m\"\u001b[39;49m\u001b[43m:\u001b[49m\u001b[43m \u001b[49m\u001b[38;5;28;43;01mTrue\u001b[39;49;00m\u001b[43m,\u001b[49m\n\u001b[1;32m     95\u001b[0m \u001b[43m                        \u001b[49m\u001b[38;5;124;43m\"\u001b[39;49m\u001b[38;5;124;43minliner\u001b[39;49m\u001b[38;5;124;43m\"\u001b[39;49m\u001b[43m:\u001b[49m\u001b[43m \u001b[49m\u001b[38;5;28;43;01mTrue\u001b[39;49;00m\u001b[43m,\u001b[49m\n\u001b[1;32m     96\u001b[0m \u001b[43m                        \u001b[49m\u001b[38;5;124;43m\"\u001b[39;49m\u001b[38;5;124;43mjumpdestRemover\u001b[39;49m\u001b[38;5;124;43m\"\u001b[39;49m\u001b[43m:\u001b[49m\u001b[43m \u001b[49m\u001b[38;5;28;43;01mTrue\u001b[39;49;00m\u001b[43m,\u001b[49m\n\u001b[1;32m     97\u001b[0m \u001b[43m                        \u001b[49m\u001b[38;5;124;43m\"\u001b[39;49m\u001b[38;5;124;43morderLiterals\u001b[39;49m\u001b[38;5;124;43m\"\u001b[39;49m\u001b[43m:\u001b[49m\u001b[43m \u001b[49m\u001b[38;5;28;43;01mTrue\u001b[39;49;00m\u001b[43m,\u001b[49m\n\u001b[1;32m     98\u001b[0m \u001b[43m                        \u001b[49m\u001b[38;5;124;43m\"\u001b[39;49m\u001b[38;5;124;43mdeduplicate\u001b[39;49m\u001b[38;5;124;43m\"\u001b[39;49m\u001b[43m:\u001b[49m\u001b[43m \u001b[49m\u001b[38;5;28;43;01mTrue\u001b[39;49;00m\u001b[43m,\u001b[49m\n\u001b[1;32m     99\u001b[0m \u001b[43m                        \u001b[49m\u001b[38;5;124;43m\"\u001b[39;49m\u001b[38;5;124;43mcse\u001b[39;49m\u001b[38;5;124;43m\"\u001b[39;49m\u001b[43m:\u001b[49m\u001b[43m \u001b[49m\u001b[38;5;28;43;01mTrue\u001b[39;49;00m\u001b[43m,\u001b[49m\n\u001b[1;32m    100\u001b[0m \u001b[43m                        \u001b[49m\u001b[38;5;124;43m\"\u001b[39;49m\u001b[38;5;124;43mconstantOptimizer\u001b[39;49m\u001b[38;5;124;43m\"\u001b[39;49m\u001b[43m:\u001b[49m\u001b[43m \u001b[49m\u001b[38;5;28;43;01mTrue\u001b[39;49;00m\u001b[43m,\u001b[49m\n\u001b[1;32m    101\u001b[0m \u001b[43m                        \u001b[49m\u001b[38;5;124;43m\"\u001b[39;49m\u001b[38;5;124;43myul\u001b[39;49m\u001b[38;5;124;43m\"\u001b[39;49m\u001b[43m:\u001b[49m\u001b[43m \u001b[49m\u001b[38;5;28;43;01mTrue\u001b[39;49;00m\u001b[43m,\u001b[49m\n\u001b[1;32m    102\u001b[0m \u001b[43m                    \u001b[49m\u001b[43m}\u001b[49m\n\u001b[1;32m    103\u001b[0m \u001b[43m            \u001b[49m\u001b[43m}\u001b[49m\u001b[43m,\u001b[49m\n\u001b[1;32m    104\u001b[0m \u001b[43m            \u001b[49m\u001b[38;5;124;43m\"\u001b[39;49m\u001b[38;5;124;43mviaIR\u001b[39;49m\u001b[38;5;124;43m\"\u001b[39;49m\u001b[43m:\u001b[49m\u001b[43m \u001b[49m\u001b[38;5;28;43;01mTrue\u001b[39;49;00m\u001b[43m,\u001b[49m\n\u001b[1;32m    105\u001b[0m \u001b[43m            \u001b[49m\u001b[38;5;124;43m\"\u001b[39;49m\u001b[38;5;124;43mevmVersion\u001b[39;49m\u001b[38;5;124;43m\"\u001b[39;49m\u001b[43m:\u001b[49m\u001b[43m \u001b[49m\u001b[38;5;124;43m\"\u001b[39;49m\u001b[38;5;124;43mlondon\u001b[39;49m\u001b[38;5;124;43m\"\u001b[39;49m\u001b[43m,\u001b[49m\n\u001b[1;32m    106\u001b[0m \n\u001b[1;32m    107\u001b[0m \u001b[43m            \u001b[49m\u001b[38;5;124;43m\"\u001b[39;49m\u001b[38;5;124;43moutputSelection\u001b[39;49m\u001b[38;5;124;43m\"\u001b[39;49m\u001b[43m:\u001b[49m\u001b[43m \u001b[49m\u001b[43m{\u001b[49m\n\u001b[1;32m    108\u001b[0m \u001b[43m                \u001b[49m\u001b[38;5;124;43m\"\u001b[39;49m\u001b[38;5;124;43m*\u001b[39;49m\u001b[38;5;124;43m\"\u001b[39;49m\u001b[43m:\u001b[49m\u001b[43m \u001b[49m\u001b[43m{\u001b[49m\n\u001b[1;32m    109\u001b[0m \u001b[43m                    \u001b[49m\u001b[38;5;124;43m\"\u001b[39;49m\u001b[38;5;124;43m*\u001b[39;49m\u001b[38;5;124;43m\"\u001b[39;49m\u001b[43m:\u001b[49m\u001b[43m \u001b[49m\u001b[43m[\u001b[49m\u001b[38;5;124;43m\"\u001b[39;49m\u001b[38;5;124;43mabi\u001b[39;49m\u001b[38;5;124;43m\"\u001b[39;49m\u001b[43m,\u001b[49m\u001b[43m \u001b[49m\u001b[38;5;124;43m\"\u001b[39;49m\u001b[38;5;124;43mmetadata\u001b[39;49m\u001b[38;5;124;43m\"\u001b[39;49m\u001b[43m,\u001b[49m\u001b[43m \u001b[49m\u001b[38;5;124;43m\"\u001b[39;49m\u001b[38;5;124;43mevm.bytecode\u001b[39;49m\u001b[38;5;124;43m\"\u001b[39;49m\u001b[43m,\u001b[49m\u001b[43m \u001b[49m\u001b[38;5;124;43m\"\u001b[39;49m\u001b[38;5;124;43mevm.sourceMap\u001b[39;49m\u001b[38;5;124;43m\"\u001b[39;49m\u001b[43m]\u001b[49m\n\u001b[1;32m    110\u001b[0m \u001b[43m                \u001b[49m\u001b[43m}\u001b[49m\n\u001b[1;32m    111\u001b[0m \u001b[43m            \u001b[49m\u001b[43m}\u001b[49m\n\u001b[1;32m    112\u001b[0m \u001b[43m        \u001b[49m\u001b[43m}\u001b[49m\u001b[43m,\u001b[49m\n\u001b[1;32m    113\u001b[0m \u001b[43m    \u001b[49m\u001b[43m}\u001b[49m\u001b[43m,\u001b[49m\n\u001b[1;32m    114\u001b[0m \u001b[43m    \u001b[49m\u001b[43msolc_version\u001b[49m\u001b[38;5;241;43m=\u001b[39;49m\u001b[43msolcversion\u001b[49m\u001b[43m,\u001b[49m\n\u001b[1;32m    115\u001b[0m \u001b[43m    \u001b[49m\u001b[43mallow_paths\u001b[49m\u001b[38;5;241;43m=\u001b[39;49m\u001b[43mos\u001b[49m\u001b[38;5;241;43m.\u001b[39;49m\u001b[43mpath\u001b[49m\u001b[38;5;241;43m.\u001b[39;49m\u001b[43mjoin\u001b[49m\u001b[43m(\u001b[49m\u001b[38;5;28;43mself\u001b[39;49m\u001b[38;5;241;43m.\u001b[39;49m\u001b[43mlocal_dirname\u001b[49m\u001b[43m,\u001b[49m\u001b[43m \u001b[49m\u001b[38;5;124;43m\"\u001b[39;49m\u001b[38;5;124;43mcontracts\u001b[39;49m\u001b[38;5;124;43m\"\u001b[39;49m\u001b[43m)\u001b[49m\u001b[43m,\u001b[49m\n\u001b[1;32m    116\u001b[0m \u001b[43m    \u001b[49m\u001b[43mbase_path\u001b[49m\u001b[38;5;241;43m=\u001b[39;49m\u001b[43mos\u001b[49m\u001b[38;5;241;43m.\u001b[39;49m\u001b[43mpath\u001b[49m\u001b[38;5;241;43m.\u001b[39;49m\u001b[43mjoin\u001b[49m\u001b[43m(\u001b[49m\u001b[38;5;28;43mself\u001b[39;49m\u001b[38;5;241;43m.\u001b[39;49m\u001b[43mlocal_dirname\u001b[49m\u001b[43m,\u001b[49m\u001b[43m \u001b[49m\u001b[38;5;124;43m\"\u001b[39;49m\u001b[38;5;124;43mcontracts\u001b[39;49m\u001b[38;5;124;43m\"\u001b[39;49m\u001b[43m)\u001b[49m\n\u001b[1;32m    117\u001b[0m \u001b[43m\u001b[49m\u001b[43m)\u001b[49m\n\u001b[1;32m    118\u001b[0m \u001b[38;5;28;01mwith\u001b[39;00m \u001b[38;5;28mopen\u001b[39m(os\u001b[38;5;241m.\u001b[39mpath\u001b[38;5;241m.\u001b[39mjoin(\u001b[38;5;28mself\u001b[39m\u001b[38;5;241m.\u001b[39mlocal_dirname, \u001b[38;5;28mself\u001b[39m\u001b[38;5;241m.\u001b[39mcompiled_file_path \u001b[38;5;241m+\u001b[39m file_name_contract \u001b[38;5;241m+\u001b[39m \u001b[38;5;124m'\u001b[39m\u001b[38;5;124m.json\u001b[39m\u001b[38;5;124m'\u001b[39m), \u001b[38;5;124m\"\u001b[39m\u001b[38;5;124mw\u001b[39m\u001b[38;5;124m\"\u001b[39m) \u001b[38;5;28;01mas\u001b[39;00m f:\n\u001b[1;32m    119\u001b[0m     json\u001b[38;5;241m.\u001b[39mdump(compiled_sol, f)\n",
      "File \u001b[0;32m~/venv310/lib/python3.10/site-packages/solcx/main.py:369\u001b[0m, in \u001b[0;36mcompile_standard\u001b[0;34m(input_data, base_path, allow_paths, output_dir, overwrite, solc_binary, solc_version, allow_empty)\u001b[0m\n\u001b[1;32m    361\u001b[0m     \u001b[38;5;28;01mif\u001b[39;00m has_errors:\n\u001b[1;32m    362\u001b[0m         error_message \u001b[38;5;241m=\u001b[39m \u001b[38;5;124m\"\u001b[39m\u001b[38;5;130;01m\\n\u001b[39;00m\u001b[38;5;124m\"\u001b[39m\u001b[38;5;241m.\u001b[39mjoin(\n\u001b[1;32m    363\u001b[0m             \u001b[38;5;28mtuple\u001b[39m(\n\u001b[1;32m    364\u001b[0m                 error[\u001b[38;5;124m\"\u001b[39m\u001b[38;5;124mformattedMessage\u001b[39m\u001b[38;5;124m\"\u001b[39m]\n\u001b[0;32m   (...)\u001b[0m\n\u001b[1;32m    367\u001b[0m             )\n\u001b[1;32m    368\u001b[0m         )\n\u001b[0;32m--> 369\u001b[0m         \u001b[38;5;28;01mraise\u001b[39;00m SolcError(\n\u001b[1;32m    370\u001b[0m             error_message,\n\u001b[1;32m    371\u001b[0m             command\u001b[38;5;241m=\u001b[39mcommand,\n\u001b[1;32m    372\u001b[0m             return_code\u001b[38;5;241m=\u001b[39mproc\u001b[38;5;241m.\u001b[39mreturncode,\n\u001b[1;32m    373\u001b[0m             stdin_data\u001b[38;5;241m=\u001b[39mjson\u001b[38;5;241m.\u001b[39mdumps(input_data),\n\u001b[1;32m    374\u001b[0m             stdout_data\u001b[38;5;241m=\u001b[39mstdoutdata,\n\u001b[1;32m    375\u001b[0m             stderr_data\u001b[38;5;241m=\u001b[39mstderrdata,\n\u001b[1;32m    376\u001b[0m             error_dict\u001b[38;5;241m=\u001b[39mcompiler_output[\u001b[38;5;124m\"\u001b[39m\u001b[38;5;124merrors\u001b[39m\u001b[38;5;124m\"\u001b[39m],\n\u001b[1;32m    377\u001b[0m         )\n\u001b[1;32m    378\u001b[0m \u001b[38;5;28;01mreturn\u001b[39;00m compiler_output\n",
      "\u001b[0;31mSolcError\u001b[0m: ParserError: Source \"ERC/ERC20.sol\" not found: File not found. Searched the following locations: \"/Users/shaltieleloul/PADL/pyledger/contracts\".\n --> PadlTokenBN.sol:6:1:\n  |\n6 | import \"./ERC/ERC20.sol\";\n  | ^^^^^^^^^^^^^^^^^^^^^^^^^\n\n\n> command: `/Users/shaltieleloul/.solcx/solc-v0.8.28 --standard-json --base-path /Users/shaltieleloul/PADL/pyledger/contracts --allow-paths /Users/shaltieleloul/PADL/pyledger/contracts`\n> return code: `0`\n> stdout:\n{\"errors\":[{\"component\":\"general\",\"errorCode\":\"1878\",\"formattedMessage\":\"Warning: SPDX license identifier not provided in source file. Before publishing, consider adding a comment containing \\\"SPDX-License-Identifier: <SPDX-License>\\\" to each source file. Use \\\"SPDX-License-Identifier: UNLICENSED\\\" for non-open-source code. Please see https://spdx.org for more information.\\n--> PadlTokenBN.sol\\n\\n\",\"message\":\"SPDX license identifier not provided in source file. Before publishing, consider adding a comment containing \\\"SPDX-License-Identifier: <SPDX-License>\\\" to each source file. Use \\\"SPDX-License-Identifier: UNLICENSED\\\" for non-open-source code. Please see https://spdx.org for more information.\",\"severity\":\"warning\",\"sourceLocation\":{\"end\":-1,\"file\":\"PadlTokenBN.sol\",\"start\":-1},\"type\":\"Warning\"},{\"component\":\"general\",\"errorCode\":\"6275\",\"formattedMessage\":\"ParserError: Source \\\"ERC/ERC20.sol\\\" not found: File not found. Searched the following locations: \\\"/Users/shaltieleloul/PADL/pyledger/contracts\\\".\\n --> PadlTokenBN.sol:6:1:\\n  |\\n6 | import \\\"./ERC/ERC20.sol\\\";\\n  | ^^^^^^^^^^^^^^^^^^^^^^^^^\\n\\n\",\"message\":\"Source \\\"ERC/ERC20.sol\\\" not found: File not found. Searched the following locations: \\\"/Users/shaltieleloul/PADL/pyledger/contracts\\\".\",\"severity\":\"error\",\"sourceLocation\":{\"end\":251,\"file\":\"PadlTokenBN.sol\",\"start\":226},\"type\":\"ParserError\"},{\"component\":\"general\",\"errorCode\":\"1878\",\"formattedMessage\":\"Warning: SPDX license identifier not provided in source file. Before publishing, consider adding a comment containing \\\"SPDX-License-Identifier: <SPDX-License>\\\" to each source file. Use \\\"SPDX-License-Identifier: UNLICENSED\\\" for non-open-source code. Please see https://spdx.org for more information.\\n--> Interfaces/BNInterface.sol\\n\\n\",\"message\":\"SPDX license identifier not provided in source file. Before publishing, consider adding a comment containing \\\"SPDX-License-Identifier: <SPDX-License>\\\" to each source file. Use \\\"SPDX-License-Identifier: UNLICENSED\\\" for non-open-source code. Please see https://spdx.org for more information.\",\"severity\":\"warning\",\"sourceLocation\":{\"end\":-1,\"file\":\"Interfaces/BNInterface.sol\",\"start\":-1},\"type\":\"Warning\"},{\"component\":\"general\",\"errorCode\":\"1878\",\"formattedMessage\":\"Warning: SPDX license identifier not provided in source file. Before publishing, consider adding a comment containing \\\"SPDX-License-Identifier: <SPDX-License>\\\" to each source file. Use \\\"SPDX-License-Identifier: UNLICENSED\\\" for non-open-source code. Please see https://spdx.org for more information.\\n--> Interfaces/PADLOnChainInterface.sol\\n\\n\",\"message\":\"SPDX license identifier not provided in source file. Before publishing, consider adding a comment containing \\\"SPDX-License-Identifier: <SPDX-License>\\\" to each source file. Use \\\"SPDX-License-Identifier: UNLICENSED\\\" for non-open-source code. Please see https://spdx.org for more information.\",\"severity\":\"warning\",\"sourceLocation\":{\"end\":-1,\"file\":\"Interfaces/PADLOnChainInterface.sol\",\"start\":-1},\"type\":\"Warning\"},{\"component\":\"general\",\"errorCode\":\"1878\",\"formattedMessage\":\"Warning: SPDX license identifier not provided in source file. Before publishing, consider adding a comment containing \\\"SPDX-License-Identifier: <SPDX-License>\\\" to each source file. Use \\\"SPDX-License-Identifier: UNLICENSED\\\" for non-open-source code. Please see https://spdx.org for more information.\\n--> Interfaces/ConsistencyProofInterface.sol\\n\\n\",\"message\":\"SPDX license identifier not provided in source file. Before publishing, consider adding a comment containing \\\"SPDX-License-Identifier: <SPDX-License>\\\" to each source file. Use \\\"SPDX-License-Identifier: UNLICENSED\\\" for non-open-source code. Please see https://spdx.org for more information.\",\"severity\":\"warning\",\"sourceLocation\":{\"end\":-1,\"file\":\"Interfaces/ConsistencyProofInterface.sol\",\"start\":-1},\"type\":\"Warning\"},{\"component\":\"general\",\"errorCode\":\"1878\",\"formattedMessage\":\"Warning: SPDX license identifier not provided in source file. Before publishing, consider adding a comment containing \\\"SPDX-License-Identifier: <SPDX-License>\\\" to each source file. Use \\\"SPDX-License-Identifier: UNLICENSED\\\" for non-open-source code. Please see https://spdx.org for more information.\\n--> Interfaces/EquivalenceProofInterface.sol\\n\\n\",\"message\":\"SPDX license identifier not provided in source file. Before publishing, consider adding a comment containing \\\"SPDX-License-Identifier: <SPDX-License>\\\" to each source file. Use \\\"SPDX-License-Identifier: UNLICENSED\\\" for non-open-source code. Please see https://spdx.org for more information.\",\"severity\":\"warning\",\"sourceLocation\":{\"end\":-1,\"file\":\"Interfaces/EquivalenceProofInterface.sol\",\"start\":-1},\"type\":\"Warning\"}],\"sources\":{}}\n\n> stderr:"
     ]
    }
   ],
   "source": [
    "contract_args = (100, commit, token, contract_address, ledger.bnaddress, ledger.eqaddress, ledger.consaddress)\n",
    "ev = EvmLedger(BankCommunication(), \"PadlTokenBN.sol\", local_dirname, w3, chain_id, account_address, private_key, \"PadlTokenBN\")\n",
    "deployed_address = ev.deploy_padl_erc(contract_args)"
   ]
  },
  {
   "cell_type": "markdown",
   "id": "40bcc41e-21a9-403b-beb8-55e11314cec8",
   "metadata": {},
   "source": [
    "## ERC contract deployed, check private balance"
   ]
  },
  {
   "cell_type": "code",
   "execution_count": 8,
   "id": "8e680b70-5f08-4c9c-9c24-b336c7b4aa9a",
   "metadata": {},
   "outputs": [
    {
     "name": "stdout",
     "output_type": "stream",
     "text": [
      "[11144450123644420088300977058589705499228572341681427418602605436952194929011, 6375695031510797692084216548309518758817063188403536718930574482292251350322, 19020900772094321149345331822032156566737754254110884207605591971457462817099, 13759308080568389150176506272352638813954110926142468533084424804277266825928]\n",
      "balance is 100\n"
     ]
    },
    {
     "data": {
      "text/plain": [
       "100"
      ]
     },
     "execution_count": 8,
     "metadata": {},
     "output_type": "execute_result"
    }
   ],
   "source": [
    "conn = ev.connect_to_evm()\n",
    "contract = conn['contract_obj']\n",
    "b = contract.functions.privateBalanceOf(account_address).call()\n",
    "print(b)\n",
    "check_balance_by_commit_token('Issuer 0', (b[0], b[1]), (b[2], b[3]))"
   ]
  },
  {
   "cell_type": "code",
   "execution_count": 9,
   "id": "d9b61519-a462-4498-87e8-65db39b68f01",
   "metadata": {},
   "outputs": [
    {
     "name": "stdout",
     "output_type": "stream",
     "text": [
      "[0, 0, 0, 0]\n"
     ]
    }
   ],
   "source": [
    "print(contract.functions.privateBalanceOf(account_address2).call())"
   ]
  },
  {
   "cell_type": "markdown",
   "id": "7d86e26f-3ed5-4647-bdcf-630d56b4b277",
   "metadata": {},
   "source": [
    "## Next generate a transaction including commitment, token and all zk proofs and call privateTransfer function on token contract"
   ]
  },
  {
   "cell_type": "code",
   "execution_count": 10,
   "id": "3437eaf5-aa0b-434f-9784-a77aaf5c1fe1",
   "metadata": {},
   "outputs": [
    {
     "name": "stdout",
     "output_type": "stream",
     "text": [
      "balance is 98\n",
      "balance is 2\n",
      "transaction done\n"
     ]
    }
   ],
   "source": [
    "tx_str = get_private_tx_str(pub_keys, [[-2, 2]], file_name='Issuer 0', state=[cm,tk], old_balance=100, audit_pk=None)\n",
    "nonce = w3.eth.get_transaction_count(account_address)\n",
    "transaction = contract.functions.privateTransfer(account_address, account_address2, tx_str[0], tx_str[1]).buildTransaction(\n",
    "    {\n",
    "        \"chainId\":chain_id, \"from\":account_address, \"nonce\":nonce\n",
    "    }\n",
    ")\n",
    "\n",
    "signed_txn = w3.eth.account.sign_transaction(transaction,private_key=private_key)\n",
    "tx_hash = w3.eth.send_raw_transaction(signed_txn.rawTransaction)\n",
    "tx_receipt = w3.eth.wait_for_transaction_receipt(tx_hash)\n",
    "\n",
    "b = contract.functions.privateBalanceOf(account_address).call()\n",
    "check_balance_by_commit_token('Issuer 0', (b[0], b[1]), (b[2], b[3]))\n",
    "b = contract.functions.privateBalanceOf(account_address2).call()\n",
    "check_balance_by_commit_token('Bank 1', (b[0], b[1]), (b[2], b[3]))\n",
    "print('transaction done')"
   ]
  },
  {
   "cell_type": "code",
   "execution_count": 11,
   "id": "d0db63c8-66fd-4d56-bab0-ff0018d32732",
   "metadata": {},
   "outputs": [
    {
     "name": "stdout",
     "output_type": "stream",
     "text": [
      "balance is -1\n"
     ]
    },
    {
     "data": {
      "text/plain": [
       "-1"
      ]
     },
     "execution_count": 11,
     "metadata": {},
     "output_type": "execute_result"
    }
   ],
   "source": [
    "check_balance_by_commit_token('Issuer 0', (b[0], b[1]), (b[2], b[3]))"
   ]
  },
  {
   "cell_type": "code",
   "execution_count": null,
   "id": "942e0cc0-5126-4d1e-8a73-25c2061be368",
   "metadata": {},
   "outputs": [],
   "source": []
  },
  {
   "cell_type": "code",
   "execution_count": 12,
   "id": "9cb807a7-00d2-4c10-b434-fb7ea6321ec4",
   "metadata": {},
   "outputs": [
    {
     "name": "stdout",
     "output_type": "stream",
     "text": [
      "98\n"
     ]
    }
   ],
   "source": [
    "b = contract.functions.privateBalanceOf(account_address).call()\n",
    "bank = utils.load_bank_from_file(\"Issuer 0\")\n",
    "cc = zkbp.from_str(BNCurve.get_compressed_ecpoint(b[0], b[1]))\n",
    "tc = zkbp.to_token_from_str(BNCurve.get_compressed_ecpoint(b[2], b[3]))\n",
    "gh = zkbp.gen_GH()\n",
    "bal = zkbp.get_brut_v(cc,tc, gh, bank.sk_pk_obj, MAX)\n",
    "print(bal) "
   ]
  },
  {
   "cell_type": "code",
   "execution_count": 13,
   "id": "8c1e6bd4-171b-4328-abe7-327538d2d7c0",
   "metadata": {},
   "outputs": [],
   "source": [
    "tx_str = get_private_tx_str(pub_keys, [[-2, 2]], file_name='Issuer 0', state=[cc.get,tc.get], old_balance=98, audit_pk=None)"
   ]
  },
  {
   "cell_type": "code",
   "execution_count": 14,
   "id": "15b35325-bd34-426a-831b-0771e96bbe0e",
   "metadata": {},
   "outputs": [],
   "source": [
    "nonce = w3.eth.get_transaction_count(account_address)\n",
    "transaction = contract.functions.privateTransfer(account_address, account_address2, tx_str[0], tx_str[1]).buildTransaction(\n",
    "    {\n",
    "        \"chainId\":chain_id, \"from\":account_address, \"nonce\":nonce\n",
    "    }\n",
    ")\n",
    "\n",
    "signed_txn = w3.eth.account.sign_transaction(transaction,private_key=private_key)\n",
    "tx_hash = w3.eth.send_raw_transaction(signed_txn.rawTransaction)\n",
    "tx_receipt = w3.eth.wait_for_transaction_receipt(tx_hash)\n"
   ]
  },
  {
   "cell_type": "code",
   "execution_count": 15,
   "id": "07f547a8-cac4-474d-b5ac-66ea22a6c790",
   "metadata": {},
   "outputs": [
    {
     "name": "stdout",
     "output_type": "stream",
     "text": [
      "balance is 96\n"
     ]
    },
    {
     "data": {
      "text/plain": [
       "96"
      ]
     },
     "execution_count": 15,
     "metadata": {},
     "output_type": "execute_result"
    }
   ],
   "source": [
    "b = contract.functions.privateBalanceOf(account_address).call()\n",
    "check_balance_by_commit_token('Issuer 0', (b[0], b[1]), (b[2], b[3]))"
   ]
  },
  {
   "cell_type": "code",
   "execution_count": 16,
   "id": "d9951d0f-e672-429b-94b5-101af81f7fab",
   "metadata": {},
   "outputs": [
    {
     "name": "stdout",
     "output_type": "stream",
     "text": [
      "balance is 4\n"
     ]
    },
    {
     "data": {
      "text/plain": [
       "4"
      ]
     },
     "execution_count": 16,
     "metadata": {},
     "output_type": "execute_result"
    }
   ],
   "source": [
    "b = contract.functions.privateBalanceOf(account_address2).call()\n",
    "check_balance_by_commit_token('Bank 1', (b[0], b[1]), (b[2], b[3]))"
   ]
  },
  {
   "cell_type": "code",
   "execution_count": null,
   "id": "93a23365-1c84-44ca-ac40-9b35bba07288",
   "metadata": {},
   "outputs": [],
   "source": []
  },
  {
   "cell_type": "code",
   "execution_count": null,
   "id": "0a88326b-691b-465a-b75d-e541b00f2989",
   "metadata": {},
   "outputs": [],
   "source": []
  }
 ],
 "metadata": {
  "kernelspec": {
   "display_name": "Python 3 (ipykernel)",
   "language": "python",
   "name": "python3"
  },
  "language_info": {
   "codemirror_mode": {
    "name": "ipython",
    "version": 3
   },
   "file_extension": ".py",
   "mimetype": "text/x-python",
   "name": "python",
   "nbconvert_exporter": "python",
   "pygments_lexer": "ipython3",
   "version": "3.10.16"
  }
 },
 "nbformat": 4,
 "nbformat_minor": 5
}
